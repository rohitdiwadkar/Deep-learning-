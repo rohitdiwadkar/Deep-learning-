{
 "cells": [
  {
   "cell_type": "markdown",
   "metadata": {},
   "source": [
    "# Name : Rohit Shenvi Diwadkar"
   ]
  },
  {
   "cell_type": "markdown",
   "metadata": {
    "colab_type": "text",
    "id": "RmGdKfUZt9UA"
   },
   "source": [
    "# I. Overview\n",
    "\n",
    "__This assignment is about classification of labels using deep learning. In Deep learning we use lots of python library for the above objective , for example : tensorflow or keras.__\n",
    "\n",
    "__I used keras for implementation of deep learning on bank marketing data. In this we used sequential model of keras.__\n",
    "\n",
    "\n",
    "\n"
   ]
  },
  {
   "cell_type": "markdown",
   "metadata": {
    "colab_type": "text",
    "id": "fdKYtjgrCFOj"
   },
   "source": [
    "### Data Visualization -- Classification\n",
    "\n",
    "__So for Classification I chose \" Google, Amazon and more Employee Reviews\" dataset from UCI Machine Learning Repository (https://archive.ics.uci.edu/ml/datasets/bank+marketing). The data is related with direct marketing campaigns of a Portuguese banking institution. The marketing campaigns were based on phone calls. Often, more than one contact to the same client was required, in order to access if the product (bank term deposit) would be ('yes') or not ('no') subscribed.__\n",
    "\n",
    "There are 17 variables and in total 45211 records . The folowing are the attribute Information:\n",
    "\n",
    "Input variables:\n",
    "\n",
    "1 - age (numeric) \n",
    "\n",
    "2 - job : type of job (categorical: 'admin.','blue-collar','entrepreneur','housemaid','management','retired','self-employed','services','student','technician','unemployed','unknown')\n",
    "\n",
    "3 - marital : marital status (categorical: 'divorced','married','single','unknown'; note: 'divorced' means divorced or widowed)\n",
    "\n",
    "4 - education (categorical: 'basic.4y','basic.6y','basic.9y','high.school','illiterate','professional.course','university.degree','unknown')\n",
    "\n",
    "5 - default: has credit in default? (categorical: 'no','yes','unknown')\n",
    "\n",
    "6 - housing: has housing loan? (categorical: 'no','yes','unknown')\n",
    "\n",
    "7 - loan: has personal loan? (categorical: 'no','yes','unknown')\n",
    "\n",
    "8 - contact: contact communication type (categorical: 'cellular','telephone') \n",
    "\n",
    "9 - month: last contact month of year (categorical: 'jan', 'feb', 'mar', ..., 'nov', 'dec')\n",
    "\n",
    "10 - day: last contact day.\n",
    "\n",
    "11 - duration: last contact duration, in seconds (numeric). Important note: this attribute highly affects the output target (e.g., if duration=0 then y='no').\n",
    "\n",
    "12 - campaign: number of contacts performed during this campaign and for this client (numeric, includes last contact)\n",
    "\n",
    "13 - pdays: number of days that passed by after the client was last contacted from a previous campaign (numeric; 999 means client was not previously contacted)\n",
    "\n",
    "14 - previous: number of contacts performed before this campaign and for this client (numeric)\n",
    "\n",
    "15 - poutcome: outcome of the previous marketing campaign (categorical: 'failure','nonexistent','success')\n",
    "\n",
    "16 - y : has the client subscribed a term deposit? (binary: 'yes','no')\n",
    "\n",
    "17 - Balance : balance in the bank account (numeric)"
   ]
  },
  {
   "cell_type": "markdown",
   "metadata": {
    "colab_type": "text",
    "id": "Duf6S1rpCyli"
   },
   "source": [
    "__Below here we read the data and load it as a dataframe.__"
   ]
  },
  {
   "cell_type": "code",
   "execution_count": 0,
   "metadata": {
    "colab": {},
    "colab_type": "code",
    "id": "csoYHii0qgBR"
   },
   "outputs": [],
   "source": [
    "import tensorflow as tf\n",
    "import pandas as pd\n",
    "import numpy as np # linear algebra\n",
    "import pandas as pd # data processing\n",
    "import seaborn as sns\n",
    "import matplotlib as mlp\n",
    "import matplotlib.pyplot as plt\n",
    "import plotly.plotly as py\n",
    "import plotly.graph_objs as go\n",
    "from datetime import datetime\n",
    "from PIL import Image\n",
    "from wordcloud import WordCloud,STOPWORDS\n",
    "from nltk.tokenize import word_tokenize\n"
   ]
  },
  {
   "cell_type": "code",
   "execution_count": 0,
   "metadata": {
    "colab": {},
    "colab_type": "code",
    "id": "NQgBq388rFbX"
   },
   "outputs": [],
   "source": [
    "from keras.models import Sequential\n",
    "from keras.layers import Dense, Activation, Dropout\n",
    "from keras.optimizers import RMSprop\n",
    "from keras.datasets import mnist\n",
    "from keras.utils import np_utils"
   ]
  },
  {
   "cell_type": "code",
   "execution_count": 0,
   "metadata": {
    "colab": {},
    "colab_type": "code",
    "id": "DDWyP8vNrJDf"
   },
   "outputs": [],
   "source": [
    "df =pd.read_csv('bank-full.csv')"
   ]
  },
  {
   "cell_type": "code",
   "execution_count": 0,
   "metadata": {
    "colab": {
     "base_uri": "https://localhost:8080/",
     "height": 1969
    },
    "colab_type": "code",
    "id": "ylLmeDdVzMAH",
    "outputId": "15070016-8520-4ece-8ae0-7bc71e16c774"
   },
   "outputs": [
    {
     "data": {
      "text/html": [
       "<div>\n",
       "<style scoped>\n",
       "    .dataframe tbody tr th:only-of-type {\n",
       "        vertical-align: middle;\n",
       "    }\n",
       "\n",
       "    .dataframe tbody tr th {\n",
       "        vertical-align: top;\n",
       "    }\n",
       "\n",
       "    .dataframe thead th {\n",
       "        text-align: right;\n",
       "    }\n",
       "</style>\n",
       "<table border=\"1\" class=\"dataframe\">\n",
       "  <thead>\n",
       "    <tr style=\"text-align: right;\">\n",
       "      <th></th>\n",
       "      <th>age</th>\n",
       "      <th>job</th>\n",
       "      <th>marital</th>\n",
       "      <th>education</th>\n",
       "      <th>default</th>\n",
       "      <th>balance</th>\n",
       "      <th>housing</th>\n",
       "      <th>loan</th>\n",
       "      <th>contact</th>\n",
       "      <th>day</th>\n",
       "      <th>month</th>\n",
       "      <th>duration</th>\n",
       "      <th>campaign</th>\n",
       "      <th>pdays</th>\n",
       "      <th>previous</th>\n",
       "      <th>poutcome</th>\n",
       "      <th>y</th>\n",
       "    </tr>\n",
       "  </thead>\n",
       "  <tbody>\n",
       "    <tr>\n",
       "      <th>0</th>\n",
       "      <td>58</td>\n",
       "      <td>management</td>\n",
       "      <td>married</td>\n",
       "      <td>tertiary</td>\n",
       "      <td>no</td>\n",
       "      <td>2143</td>\n",
       "      <td>yes</td>\n",
       "      <td>no</td>\n",
       "      <td>unknown</td>\n",
       "      <td>5</td>\n",
       "      <td>may</td>\n",
       "      <td>261</td>\n",
       "      <td>1</td>\n",
       "      <td>-1</td>\n",
       "      <td>0</td>\n",
       "      <td>unknown</td>\n",
       "      <td>no</td>\n",
       "    </tr>\n",
       "    <tr>\n",
       "      <th>1</th>\n",
       "      <td>44</td>\n",
       "      <td>technician</td>\n",
       "      <td>single</td>\n",
       "      <td>secondary</td>\n",
       "      <td>no</td>\n",
       "      <td>29</td>\n",
       "      <td>yes</td>\n",
       "      <td>no</td>\n",
       "      <td>unknown</td>\n",
       "      <td>5</td>\n",
       "      <td>may</td>\n",
       "      <td>151</td>\n",
       "      <td>1</td>\n",
       "      <td>-1</td>\n",
       "      <td>0</td>\n",
       "      <td>unknown</td>\n",
       "      <td>no</td>\n",
       "    </tr>\n",
       "    <tr>\n",
       "      <th>2</th>\n",
       "      <td>33</td>\n",
       "      <td>entrepreneur</td>\n",
       "      <td>married</td>\n",
       "      <td>secondary</td>\n",
       "      <td>no</td>\n",
       "      <td>2</td>\n",
       "      <td>yes</td>\n",
       "      <td>yes</td>\n",
       "      <td>unknown</td>\n",
       "      <td>5</td>\n",
       "      <td>may</td>\n",
       "      <td>76</td>\n",
       "      <td>1</td>\n",
       "      <td>-1</td>\n",
       "      <td>0</td>\n",
       "      <td>unknown</td>\n",
       "      <td>no</td>\n",
       "    </tr>\n",
       "    <tr>\n",
       "      <th>3</th>\n",
       "      <td>47</td>\n",
       "      <td>blue-collar</td>\n",
       "      <td>married</td>\n",
       "      <td>unknown</td>\n",
       "      <td>no</td>\n",
       "      <td>1506</td>\n",
       "      <td>yes</td>\n",
       "      <td>no</td>\n",
       "      <td>unknown</td>\n",
       "      <td>5</td>\n",
       "      <td>may</td>\n",
       "      <td>92</td>\n",
       "      <td>1</td>\n",
       "      <td>-1</td>\n",
       "      <td>0</td>\n",
       "      <td>unknown</td>\n",
       "      <td>no</td>\n",
       "    </tr>\n",
       "    <tr>\n",
       "      <th>4</th>\n",
       "      <td>33</td>\n",
       "      <td>unknown</td>\n",
       "      <td>single</td>\n",
       "      <td>unknown</td>\n",
       "      <td>no</td>\n",
       "      <td>1</td>\n",
       "      <td>no</td>\n",
       "      <td>no</td>\n",
       "      <td>unknown</td>\n",
       "      <td>5</td>\n",
       "      <td>may</td>\n",
       "      <td>198</td>\n",
       "      <td>1</td>\n",
       "      <td>-1</td>\n",
       "      <td>0</td>\n",
       "      <td>unknown</td>\n",
       "      <td>no</td>\n",
       "    </tr>\n",
       "    <tr>\n",
       "      <th>5</th>\n",
       "      <td>35</td>\n",
       "      <td>management</td>\n",
       "      <td>married</td>\n",
       "      <td>tertiary</td>\n",
       "      <td>no</td>\n",
       "      <td>231</td>\n",
       "      <td>yes</td>\n",
       "      <td>no</td>\n",
       "      <td>unknown</td>\n",
       "      <td>5</td>\n",
       "      <td>may</td>\n",
       "      <td>139</td>\n",
       "      <td>1</td>\n",
       "      <td>-1</td>\n",
       "      <td>0</td>\n",
       "      <td>unknown</td>\n",
       "      <td>no</td>\n",
       "    </tr>\n",
       "    <tr>\n",
       "      <th>6</th>\n",
       "      <td>28</td>\n",
       "      <td>management</td>\n",
       "      <td>single</td>\n",
       "      <td>tertiary</td>\n",
       "      <td>no</td>\n",
       "      <td>447</td>\n",
       "      <td>yes</td>\n",
       "      <td>yes</td>\n",
       "      <td>unknown</td>\n",
       "      <td>5</td>\n",
       "      <td>may</td>\n",
       "      <td>217</td>\n",
       "      <td>1</td>\n",
       "      <td>-1</td>\n",
       "      <td>0</td>\n",
       "      <td>unknown</td>\n",
       "      <td>no</td>\n",
       "    </tr>\n",
       "    <tr>\n",
       "      <th>7</th>\n",
       "      <td>42</td>\n",
       "      <td>entrepreneur</td>\n",
       "      <td>divorced</td>\n",
       "      <td>tertiary</td>\n",
       "      <td>yes</td>\n",
       "      <td>2</td>\n",
       "      <td>yes</td>\n",
       "      <td>no</td>\n",
       "      <td>unknown</td>\n",
       "      <td>5</td>\n",
       "      <td>may</td>\n",
       "      <td>380</td>\n",
       "      <td>1</td>\n",
       "      <td>-1</td>\n",
       "      <td>0</td>\n",
       "      <td>unknown</td>\n",
       "      <td>no</td>\n",
       "    </tr>\n",
       "    <tr>\n",
       "      <th>8</th>\n",
       "      <td>58</td>\n",
       "      <td>retired</td>\n",
       "      <td>married</td>\n",
       "      <td>primary</td>\n",
       "      <td>no</td>\n",
       "      <td>121</td>\n",
       "      <td>yes</td>\n",
       "      <td>no</td>\n",
       "      <td>unknown</td>\n",
       "      <td>5</td>\n",
       "      <td>may</td>\n",
       "      <td>50</td>\n",
       "      <td>1</td>\n",
       "      <td>-1</td>\n",
       "      <td>0</td>\n",
       "      <td>unknown</td>\n",
       "      <td>no</td>\n",
       "    </tr>\n",
       "    <tr>\n",
       "      <th>9</th>\n",
       "      <td>43</td>\n",
       "      <td>technician</td>\n",
       "      <td>single</td>\n",
       "      <td>secondary</td>\n",
       "      <td>no</td>\n",
       "      <td>593</td>\n",
       "      <td>yes</td>\n",
       "      <td>no</td>\n",
       "      <td>unknown</td>\n",
       "      <td>5</td>\n",
       "      <td>may</td>\n",
       "      <td>55</td>\n",
       "      <td>1</td>\n",
       "      <td>-1</td>\n",
       "      <td>0</td>\n",
       "      <td>unknown</td>\n",
       "      <td>no</td>\n",
       "    </tr>\n",
       "    <tr>\n",
       "      <th>10</th>\n",
       "      <td>41</td>\n",
       "      <td>admin.</td>\n",
       "      <td>divorced</td>\n",
       "      <td>secondary</td>\n",
       "      <td>no</td>\n",
       "      <td>270</td>\n",
       "      <td>yes</td>\n",
       "      <td>no</td>\n",
       "      <td>unknown</td>\n",
       "      <td>5</td>\n",
       "      <td>may</td>\n",
       "      <td>222</td>\n",
       "      <td>1</td>\n",
       "      <td>-1</td>\n",
       "      <td>0</td>\n",
       "      <td>unknown</td>\n",
       "      <td>no</td>\n",
       "    </tr>\n",
       "    <tr>\n",
       "      <th>11</th>\n",
       "      <td>29</td>\n",
       "      <td>admin.</td>\n",
       "      <td>single</td>\n",
       "      <td>secondary</td>\n",
       "      <td>no</td>\n",
       "      <td>390</td>\n",
       "      <td>yes</td>\n",
       "      <td>no</td>\n",
       "      <td>unknown</td>\n",
       "      <td>5</td>\n",
       "      <td>may</td>\n",
       "      <td>137</td>\n",
       "      <td>1</td>\n",
       "      <td>-1</td>\n",
       "      <td>0</td>\n",
       "      <td>unknown</td>\n",
       "      <td>no</td>\n",
       "    </tr>\n",
       "    <tr>\n",
       "      <th>12</th>\n",
       "      <td>53</td>\n",
       "      <td>technician</td>\n",
       "      <td>married</td>\n",
       "      <td>secondary</td>\n",
       "      <td>no</td>\n",
       "      <td>6</td>\n",
       "      <td>yes</td>\n",
       "      <td>no</td>\n",
       "      <td>unknown</td>\n",
       "      <td>5</td>\n",
       "      <td>may</td>\n",
       "      <td>517</td>\n",
       "      <td>1</td>\n",
       "      <td>-1</td>\n",
       "      <td>0</td>\n",
       "      <td>unknown</td>\n",
       "      <td>no</td>\n",
       "    </tr>\n",
       "    <tr>\n",
       "      <th>13</th>\n",
       "      <td>58</td>\n",
       "      <td>technician</td>\n",
       "      <td>married</td>\n",
       "      <td>unknown</td>\n",
       "      <td>no</td>\n",
       "      <td>71</td>\n",
       "      <td>yes</td>\n",
       "      <td>no</td>\n",
       "      <td>unknown</td>\n",
       "      <td>5</td>\n",
       "      <td>may</td>\n",
       "      <td>71</td>\n",
       "      <td>1</td>\n",
       "      <td>-1</td>\n",
       "      <td>0</td>\n",
       "      <td>unknown</td>\n",
       "      <td>no</td>\n",
       "    </tr>\n",
       "    <tr>\n",
       "      <th>14</th>\n",
       "      <td>57</td>\n",
       "      <td>services</td>\n",
       "      <td>married</td>\n",
       "      <td>secondary</td>\n",
       "      <td>no</td>\n",
       "      <td>162</td>\n",
       "      <td>yes</td>\n",
       "      <td>no</td>\n",
       "      <td>unknown</td>\n",
       "      <td>5</td>\n",
       "      <td>may</td>\n",
       "      <td>174</td>\n",
       "      <td>1</td>\n",
       "      <td>-1</td>\n",
       "      <td>0</td>\n",
       "      <td>unknown</td>\n",
       "      <td>no</td>\n",
       "    </tr>\n",
       "    <tr>\n",
       "      <th>15</th>\n",
       "      <td>51</td>\n",
       "      <td>retired</td>\n",
       "      <td>married</td>\n",
       "      <td>primary</td>\n",
       "      <td>no</td>\n",
       "      <td>229</td>\n",
       "      <td>yes</td>\n",
       "      <td>no</td>\n",
       "      <td>unknown</td>\n",
       "      <td>5</td>\n",
       "      <td>may</td>\n",
       "      <td>353</td>\n",
       "      <td>1</td>\n",
       "      <td>-1</td>\n",
       "      <td>0</td>\n",
       "      <td>unknown</td>\n",
       "      <td>no</td>\n",
       "    </tr>\n",
       "    <tr>\n",
       "      <th>16</th>\n",
       "      <td>45</td>\n",
       "      <td>admin.</td>\n",
       "      <td>single</td>\n",
       "      <td>unknown</td>\n",
       "      <td>no</td>\n",
       "      <td>13</td>\n",
       "      <td>yes</td>\n",
       "      <td>no</td>\n",
       "      <td>unknown</td>\n",
       "      <td>5</td>\n",
       "      <td>may</td>\n",
       "      <td>98</td>\n",
       "      <td>1</td>\n",
       "      <td>-1</td>\n",
       "      <td>0</td>\n",
       "      <td>unknown</td>\n",
       "      <td>no</td>\n",
       "    </tr>\n",
       "    <tr>\n",
       "      <th>17</th>\n",
       "      <td>57</td>\n",
       "      <td>blue-collar</td>\n",
       "      <td>married</td>\n",
       "      <td>primary</td>\n",
       "      <td>no</td>\n",
       "      <td>52</td>\n",
       "      <td>yes</td>\n",
       "      <td>no</td>\n",
       "      <td>unknown</td>\n",
       "      <td>5</td>\n",
       "      <td>may</td>\n",
       "      <td>38</td>\n",
       "      <td>1</td>\n",
       "      <td>-1</td>\n",
       "      <td>0</td>\n",
       "      <td>unknown</td>\n",
       "      <td>no</td>\n",
       "    </tr>\n",
       "    <tr>\n",
       "      <th>18</th>\n",
       "      <td>60</td>\n",
       "      <td>retired</td>\n",
       "      <td>married</td>\n",
       "      <td>primary</td>\n",
       "      <td>no</td>\n",
       "      <td>60</td>\n",
       "      <td>yes</td>\n",
       "      <td>no</td>\n",
       "      <td>unknown</td>\n",
       "      <td>5</td>\n",
       "      <td>may</td>\n",
       "      <td>219</td>\n",
       "      <td>1</td>\n",
       "      <td>-1</td>\n",
       "      <td>0</td>\n",
       "      <td>unknown</td>\n",
       "      <td>no</td>\n",
       "    </tr>\n",
       "    <tr>\n",
       "      <th>19</th>\n",
       "      <td>33</td>\n",
       "      <td>services</td>\n",
       "      <td>married</td>\n",
       "      <td>secondary</td>\n",
       "      <td>no</td>\n",
       "      <td>0</td>\n",
       "      <td>yes</td>\n",
       "      <td>no</td>\n",
       "      <td>unknown</td>\n",
       "      <td>5</td>\n",
       "      <td>may</td>\n",
       "      <td>54</td>\n",
       "      <td>1</td>\n",
       "      <td>-1</td>\n",
       "      <td>0</td>\n",
       "      <td>unknown</td>\n",
       "      <td>no</td>\n",
       "    </tr>\n",
       "    <tr>\n",
       "      <th>20</th>\n",
       "      <td>28</td>\n",
       "      <td>blue-collar</td>\n",
       "      <td>married</td>\n",
       "      <td>secondary</td>\n",
       "      <td>no</td>\n",
       "      <td>723</td>\n",
       "      <td>yes</td>\n",
       "      <td>yes</td>\n",
       "      <td>unknown</td>\n",
       "      <td>5</td>\n",
       "      <td>may</td>\n",
       "      <td>262</td>\n",
       "      <td>1</td>\n",
       "      <td>-1</td>\n",
       "      <td>0</td>\n",
       "      <td>unknown</td>\n",
       "      <td>no</td>\n",
       "    </tr>\n",
       "    <tr>\n",
       "      <th>21</th>\n",
       "      <td>56</td>\n",
       "      <td>management</td>\n",
       "      <td>married</td>\n",
       "      <td>tertiary</td>\n",
       "      <td>no</td>\n",
       "      <td>779</td>\n",
       "      <td>yes</td>\n",
       "      <td>no</td>\n",
       "      <td>unknown</td>\n",
       "      <td>5</td>\n",
       "      <td>may</td>\n",
       "      <td>164</td>\n",
       "      <td>1</td>\n",
       "      <td>-1</td>\n",
       "      <td>0</td>\n",
       "      <td>unknown</td>\n",
       "      <td>no</td>\n",
       "    </tr>\n",
       "    <tr>\n",
       "      <th>22</th>\n",
       "      <td>32</td>\n",
       "      <td>blue-collar</td>\n",
       "      <td>single</td>\n",
       "      <td>primary</td>\n",
       "      <td>no</td>\n",
       "      <td>23</td>\n",
       "      <td>yes</td>\n",
       "      <td>yes</td>\n",
       "      <td>unknown</td>\n",
       "      <td>5</td>\n",
       "      <td>may</td>\n",
       "      <td>160</td>\n",
       "      <td>1</td>\n",
       "      <td>-1</td>\n",
       "      <td>0</td>\n",
       "      <td>unknown</td>\n",
       "      <td>no</td>\n",
       "    </tr>\n",
       "    <tr>\n",
       "      <th>23</th>\n",
       "      <td>25</td>\n",
       "      <td>services</td>\n",
       "      <td>married</td>\n",
       "      <td>secondary</td>\n",
       "      <td>no</td>\n",
       "      <td>50</td>\n",
       "      <td>yes</td>\n",
       "      <td>no</td>\n",
       "      <td>unknown</td>\n",
       "      <td>5</td>\n",
       "      <td>may</td>\n",
       "      <td>342</td>\n",
       "      <td>1</td>\n",
       "      <td>-1</td>\n",
       "      <td>0</td>\n",
       "      <td>unknown</td>\n",
       "      <td>no</td>\n",
       "    </tr>\n",
       "    <tr>\n",
       "      <th>24</th>\n",
       "      <td>40</td>\n",
       "      <td>retired</td>\n",
       "      <td>married</td>\n",
       "      <td>primary</td>\n",
       "      <td>no</td>\n",
       "      <td>0</td>\n",
       "      <td>yes</td>\n",
       "      <td>yes</td>\n",
       "      <td>unknown</td>\n",
       "      <td>5</td>\n",
       "      <td>may</td>\n",
       "      <td>181</td>\n",
       "      <td>1</td>\n",
       "      <td>-1</td>\n",
       "      <td>0</td>\n",
       "      <td>unknown</td>\n",
       "      <td>no</td>\n",
       "    </tr>\n",
       "    <tr>\n",
       "      <th>25</th>\n",
       "      <td>44</td>\n",
       "      <td>admin.</td>\n",
       "      <td>married</td>\n",
       "      <td>secondary</td>\n",
       "      <td>no</td>\n",
       "      <td>-372</td>\n",
       "      <td>yes</td>\n",
       "      <td>no</td>\n",
       "      <td>unknown</td>\n",
       "      <td>5</td>\n",
       "      <td>may</td>\n",
       "      <td>172</td>\n",
       "      <td>1</td>\n",
       "      <td>-1</td>\n",
       "      <td>0</td>\n",
       "      <td>unknown</td>\n",
       "      <td>no</td>\n",
       "    </tr>\n",
       "    <tr>\n",
       "      <th>26</th>\n",
       "      <td>39</td>\n",
       "      <td>management</td>\n",
       "      <td>single</td>\n",
       "      <td>tertiary</td>\n",
       "      <td>no</td>\n",
       "      <td>255</td>\n",
       "      <td>yes</td>\n",
       "      <td>no</td>\n",
       "      <td>unknown</td>\n",
       "      <td>5</td>\n",
       "      <td>may</td>\n",
       "      <td>296</td>\n",
       "      <td>1</td>\n",
       "      <td>-1</td>\n",
       "      <td>0</td>\n",
       "      <td>unknown</td>\n",
       "      <td>no</td>\n",
       "    </tr>\n",
       "    <tr>\n",
       "      <th>27</th>\n",
       "      <td>52</td>\n",
       "      <td>entrepreneur</td>\n",
       "      <td>married</td>\n",
       "      <td>secondary</td>\n",
       "      <td>no</td>\n",
       "      <td>113</td>\n",
       "      <td>yes</td>\n",
       "      <td>yes</td>\n",
       "      <td>unknown</td>\n",
       "      <td>5</td>\n",
       "      <td>may</td>\n",
       "      <td>127</td>\n",
       "      <td>1</td>\n",
       "      <td>-1</td>\n",
       "      <td>0</td>\n",
       "      <td>unknown</td>\n",
       "      <td>no</td>\n",
       "    </tr>\n",
       "    <tr>\n",
       "      <th>28</th>\n",
       "      <td>46</td>\n",
       "      <td>management</td>\n",
       "      <td>single</td>\n",
       "      <td>secondary</td>\n",
       "      <td>no</td>\n",
       "      <td>-246</td>\n",
       "      <td>yes</td>\n",
       "      <td>no</td>\n",
       "      <td>unknown</td>\n",
       "      <td>5</td>\n",
       "      <td>may</td>\n",
       "      <td>255</td>\n",
       "      <td>2</td>\n",
       "      <td>-1</td>\n",
       "      <td>0</td>\n",
       "      <td>unknown</td>\n",
       "      <td>no</td>\n",
       "    </tr>\n",
       "    <tr>\n",
       "      <th>29</th>\n",
       "      <td>36</td>\n",
       "      <td>technician</td>\n",
       "      <td>single</td>\n",
       "      <td>secondary</td>\n",
       "      <td>no</td>\n",
       "      <td>265</td>\n",
       "      <td>yes</td>\n",
       "      <td>yes</td>\n",
       "      <td>unknown</td>\n",
       "      <td>5</td>\n",
       "      <td>may</td>\n",
       "      <td>348</td>\n",
       "      <td>1</td>\n",
       "      <td>-1</td>\n",
       "      <td>0</td>\n",
       "      <td>unknown</td>\n",
       "      <td>no</td>\n",
       "    </tr>\n",
       "    <tr>\n",
       "      <th>...</th>\n",
       "      <td>...</td>\n",
       "      <td>...</td>\n",
       "      <td>...</td>\n",
       "      <td>...</td>\n",
       "      <td>...</td>\n",
       "      <td>...</td>\n",
       "      <td>...</td>\n",
       "      <td>...</td>\n",
       "      <td>...</td>\n",
       "      <td>...</td>\n",
       "      <td>...</td>\n",
       "      <td>...</td>\n",
       "      <td>...</td>\n",
       "      <td>...</td>\n",
       "      <td>...</td>\n",
       "      <td>...</td>\n",
       "      <td>...</td>\n",
       "    </tr>\n",
       "    <tr>\n",
       "      <th>45181</th>\n",
       "      <td>46</td>\n",
       "      <td>blue-collar</td>\n",
       "      <td>married</td>\n",
       "      <td>secondary</td>\n",
       "      <td>no</td>\n",
       "      <td>6879</td>\n",
       "      <td>no</td>\n",
       "      <td>no</td>\n",
       "      <td>cellular</td>\n",
       "      <td>15</td>\n",
       "      <td>nov</td>\n",
       "      <td>74</td>\n",
       "      <td>2</td>\n",
       "      <td>118</td>\n",
       "      <td>3</td>\n",
       "      <td>failure</td>\n",
       "      <td>no</td>\n",
       "    </tr>\n",
       "    <tr>\n",
       "      <th>45182</th>\n",
       "      <td>34</td>\n",
       "      <td>technician</td>\n",
       "      <td>married</td>\n",
       "      <td>secondary</td>\n",
       "      <td>no</td>\n",
       "      <td>133</td>\n",
       "      <td>no</td>\n",
       "      <td>no</td>\n",
       "      <td>cellular</td>\n",
       "      <td>15</td>\n",
       "      <td>nov</td>\n",
       "      <td>401</td>\n",
       "      <td>2</td>\n",
       "      <td>187</td>\n",
       "      <td>5</td>\n",
       "      <td>success</td>\n",
       "      <td>yes</td>\n",
       "    </tr>\n",
       "    <tr>\n",
       "      <th>45183</th>\n",
       "      <td>70</td>\n",
       "      <td>retired</td>\n",
       "      <td>married</td>\n",
       "      <td>primary</td>\n",
       "      <td>no</td>\n",
       "      <td>324</td>\n",
       "      <td>no</td>\n",
       "      <td>no</td>\n",
       "      <td>cellular</td>\n",
       "      <td>15</td>\n",
       "      <td>nov</td>\n",
       "      <td>78</td>\n",
       "      <td>1</td>\n",
       "      <td>96</td>\n",
       "      <td>7</td>\n",
       "      <td>success</td>\n",
       "      <td>no</td>\n",
       "    </tr>\n",
       "    <tr>\n",
       "      <th>45184</th>\n",
       "      <td>63</td>\n",
       "      <td>retired</td>\n",
       "      <td>married</td>\n",
       "      <td>secondary</td>\n",
       "      <td>no</td>\n",
       "      <td>1495</td>\n",
       "      <td>no</td>\n",
       "      <td>no</td>\n",
       "      <td>cellular</td>\n",
       "      <td>16</td>\n",
       "      <td>nov</td>\n",
       "      <td>138</td>\n",
       "      <td>1</td>\n",
       "      <td>22</td>\n",
       "      <td>5</td>\n",
       "      <td>success</td>\n",
       "      <td>no</td>\n",
       "    </tr>\n",
       "    <tr>\n",
       "      <th>45185</th>\n",
       "      <td>60</td>\n",
       "      <td>services</td>\n",
       "      <td>married</td>\n",
       "      <td>tertiary</td>\n",
       "      <td>no</td>\n",
       "      <td>4256</td>\n",
       "      <td>yes</td>\n",
       "      <td>no</td>\n",
       "      <td>cellular</td>\n",
       "      <td>16</td>\n",
       "      <td>nov</td>\n",
       "      <td>200</td>\n",
       "      <td>1</td>\n",
       "      <td>92</td>\n",
       "      <td>4</td>\n",
       "      <td>success</td>\n",
       "      <td>yes</td>\n",
       "    </tr>\n",
       "    <tr>\n",
       "      <th>45186</th>\n",
       "      <td>59</td>\n",
       "      <td>unknown</td>\n",
       "      <td>married</td>\n",
       "      <td>unknown</td>\n",
       "      <td>no</td>\n",
       "      <td>1500</td>\n",
       "      <td>no</td>\n",
       "      <td>no</td>\n",
       "      <td>cellular</td>\n",
       "      <td>16</td>\n",
       "      <td>nov</td>\n",
       "      <td>280</td>\n",
       "      <td>1</td>\n",
       "      <td>104</td>\n",
       "      <td>2</td>\n",
       "      <td>failure</td>\n",
       "      <td>no</td>\n",
       "    </tr>\n",
       "    <tr>\n",
       "      <th>45187</th>\n",
       "      <td>32</td>\n",
       "      <td>services</td>\n",
       "      <td>single</td>\n",
       "      <td>secondary</td>\n",
       "      <td>no</td>\n",
       "      <td>1168</td>\n",
       "      <td>yes</td>\n",
       "      <td>no</td>\n",
       "      <td>cellular</td>\n",
       "      <td>16</td>\n",
       "      <td>nov</td>\n",
       "      <td>411</td>\n",
       "      <td>1</td>\n",
       "      <td>-1</td>\n",
       "      <td>0</td>\n",
       "      <td>unknown</td>\n",
       "      <td>yes</td>\n",
       "    </tr>\n",
       "    <tr>\n",
       "      <th>45188</th>\n",
       "      <td>29</td>\n",
       "      <td>management</td>\n",
       "      <td>single</td>\n",
       "      <td>secondary</td>\n",
       "      <td>no</td>\n",
       "      <td>703</td>\n",
       "      <td>yes</td>\n",
       "      <td>no</td>\n",
       "      <td>cellular</td>\n",
       "      <td>16</td>\n",
       "      <td>nov</td>\n",
       "      <td>236</td>\n",
       "      <td>1</td>\n",
       "      <td>550</td>\n",
       "      <td>2</td>\n",
       "      <td>success</td>\n",
       "      <td>yes</td>\n",
       "    </tr>\n",
       "    <tr>\n",
       "      <th>45189</th>\n",
       "      <td>25</td>\n",
       "      <td>services</td>\n",
       "      <td>single</td>\n",
       "      <td>secondary</td>\n",
       "      <td>no</td>\n",
       "      <td>199</td>\n",
       "      <td>no</td>\n",
       "      <td>no</td>\n",
       "      <td>cellular</td>\n",
       "      <td>16</td>\n",
       "      <td>nov</td>\n",
       "      <td>173</td>\n",
       "      <td>1</td>\n",
       "      <td>92</td>\n",
       "      <td>5</td>\n",
       "      <td>failure</td>\n",
       "      <td>no</td>\n",
       "    </tr>\n",
       "    <tr>\n",
       "      <th>45190</th>\n",
       "      <td>32</td>\n",
       "      <td>blue-collar</td>\n",
       "      <td>married</td>\n",
       "      <td>secondary</td>\n",
       "      <td>no</td>\n",
       "      <td>136</td>\n",
       "      <td>no</td>\n",
       "      <td>no</td>\n",
       "      <td>cellular</td>\n",
       "      <td>16</td>\n",
       "      <td>nov</td>\n",
       "      <td>206</td>\n",
       "      <td>1</td>\n",
       "      <td>188</td>\n",
       "      <td>3</td>\n",
       "      <td>success</td>\n",
       "      <td>yes</td>\n",
       "    </tr>\n",
       "    <tr>\n",
       "      <th>45191</th>\n",
       "      <td>75</td>\n",
       "      <td>retired</td>\n",
       "      <td>divorced</td>\n",
       "      <td>tertiary</td>\n",
       "      <td>no</td>\n",
       "      <td>3810</td>\n",
       "      <td>yes</td>\n",
       "      <td>no</td>\n",
       "      <td>cellular</td>\n",
       "      <td>16</td>\n",
       "      <td>nov</td>\n",
       "      <td>262</td>\n",
       "      <td>1</td>\n",
       "      <td>183</td>\n",
       "      <td>1</td>\n",
       "      <td>failure</td>\n",
       "      <td>yes</td>\n",
       "    </tr>\n",
       "    <tr>\n",
       "      <th>45192</th>\n",
       "      <td>29</td>\n",
       "      <td>management</td>\n",
       "      <td>single</td>\n",
       "      <td>tertiary</td>\n",
       "      <td>no</td>\n",
       "      <td>765</td>\n",
       "      <td>no</td>\n",
       "      <td>no</td>\n",
       "      <td>cellular</td>\n",
       "      <td>16</td>\n",
       "      <td>nov</td>\n",
       "      <td>238</td>\n",
       "      <td>1</td>\n",
       "      <td>-1</td>\n",
       "      <td>0</td>\n",
       "      <td>unknown</td>\n",
       "      <td>yes</td>\n",
       "    </tr>\n",
       "    <tr>\n",
       "      <th>45193</th>\n",
       "      <td>28</td>\n",
       "      <td>self-employed</td>\n",
       "      <td>single</td>\n",
       "      <td>tertiary</td>\n",
       "      <td>no</td>\n",
       "      <td>159</td>\n",
       "      <td>no</td>\n",
       "      <td>no</td>\n",
       "      <td>cellular</td>\n",
       "      <td>16</td>\n",
       "      <td>nov</td>\n",
       "      <td>449</td>\n",
       "      <td>2</td>\n",
       "      <td>33</td>\n",
       "      <td>4</td>\n",
       "      <td>success</td>\n",
       "      <td>yes</td>\n",
       "    </tr>\n",
       "    <tr>\n",
       "      <th>45194</th>\n",
       "      <td>59</td>\n",
       "      <td>management</td>\n",
       "      <td>married</td>\n",
       "      <td>tertiary</td>\n",
       "      <td>no</td>\n",
       "      <td>138</td>\n",
       "      <td>yes</td>\n",
       "      <td>yes</td>\n",
       "      <td>cellular</td>\n",
       "      <td>16</td>\n",
       "      <td>nov</td>\n",
       "      <td>162</td>\n",
       "      <td>2</td>\n",
       "      <td>187</td>\n",
       "      <td>5</td>\n",
       "      <td>failure</td>\n",
       "      <td>no</td>\n",
       "    </tr>\n",
       "    <tr>\n",
       "      <th>45195</th>\n",
       "      <td>68</td>\n",
       "      <td>retired</td>\n",
       "      <td>married</td>\n",
       "      <td>secondary</td>\n",
       "      <td>no</td>\n",
       "      <td>1146</td>\n",
       "      <td>no</td>\n",
       "      <td>no</td>\n",
       "      <td>cellular</td>\n",
       "      <td>16</td>\n",
       "      <td>nov</td>\n",
       "      <td>212</td>\n",
       "      <td>1</td>\n",
       "      <td>187</td>\n",
       "      <td>6</td>\n",
       "      <td>success</td>\n",
       "      <td>yes</td>\n",
       "    </tr>\n",
       "    <tr>\n",
       "      <th>45196</th>\n",
       "      <td>25</td>\n",
       "      <td>student</td>\n",
       "      <td>single</td>\n",
       "      <td>secondary</td>\n",
       "      <td>no</td>\n",
       "      <td>358</td>\n",
       "      <td>no</td>\n",
       "      <td>no</td>\n",
       "      <td>cellular</td>\n",
       "      <td>16</td>\n",
       "      <td>nov</td>\n",
       "      <td>330</td>\n",
       "      <td>1</td>\n",
       "      <td>-1</td>\n",
       "      <td>0</td>\n",
       "      <td>unknown</td>\n",
       "      <td>yes</td>\n",
       "    </tr>\n",
       "    <tr>\n",
       "      <th>45197</th>\n",
       "      <td>36</td>\n",
       "      <td>management</td>\n",
       "      <td>single</td>\n",
       "      <td>secondary</td>\n",
       "      <td>no</td>\n",
       "      <td>1511</td>\n",
       "      <td>yes</td>\n",
       "      <td>no</td>\n",
       "      <td>cellular</td>\n",
       "      <td>16</td>\n",
       "      <td>nov</td>\n",
       "      <td>270</td>\n",
       "      <td>1</td>\n",
       "      <td>-1</td>\n",
       "      <td>0</td>\n",
       "      <td>unknown</td>\n",
       "      <td>yes</td>\n",
       "    </tr>\n",
       "    <tr>\n",
       "      <th>45198</th>\n",
       "      <td>37</td>\n",
       "      <td>management</td>\n",
       "      <td>married</td>\n",
       "      <td>tertiary</td>\n",
       "      <td>no</td>\n",
       "      <td>1428</td>\n",
       "      <td>no</td>\n",
       "      <td>no</td>\n",
       "      <td>cellular</td>\n",
       "      <td>16</td>\n",
       "      <td>nov</td>\n",
       "      <td>333</td>\n",
       "      <td>2</td>\n",
       "      <td>-1</td>\n",
       "      <td>0</td>\n",
       "      <td>unknown</td>\n",
       "      <td>no</td>\n",
       "    </tr>\n",
       "    <tr>\n",
       "      <th>45199</th>\n",
       "      <td>34</td>\n",
       "      <td>blue-collar</td>\n",
       "      <td>single</td>\n",
       "      <td>secondary</td>\n",
       "      <td>no</td>\n",
       "      <td>1475</td>\n",
       "      <td>yes</td>\n",
       "      <td>no</td>\n",
       "      <td>cellular</td>\n",
       "      <td>16</td>\n",
       "      <td>nov</td>\n",
       "      <td>1166</td>\n",
       "      <td>3</td>\n",
       "      <td>530</td>\n",
       "      <td>12</td>\n",
       "      <td>other</td>\n",
       "      <td>no</td>\n",
       "    </tr>\n",
       "    <tr>\n",
       "      <th>45200</th>\n",
       "      <td>38</td>\n",
       "      <td>technician</td>\n",
       "      <td>married</td>\n",
       "      <td>secondary</td>\n",
       "      <td>no</td>\n",
       "      <td>557</td>\n",
       "      <td>yes</td>\n",
       "      <td>no</td>\n",
       "      <td>cellular</td>\n",
       "      <td>16</td>\n",
       "      <td>nov</td>\n",
       "      <td>1556</td>\n",
       "      <td>4</td>\n",
       "      <td>-1</td>\n",
       "      <td>0</td>\n",
       "      <td>unknown</td>\n",
       "      <td>yes</td>\n",
       "    </tr>\n",
       "    <tr>\n",
       "      <th>45201</th>\n",
       "      <td>53</td>\n",
       "      <td>management</td>\n",
       "      <td>married</td>\n",
       "      <td>tertiary</td>\n",
       "      <td>no</td>\n",
       "      <td>583</td>\n",
       "      <td>no</td>\n",
       "      <td>no</td>\n",
       "      <td>cellular</td>\n",
       "      <td>17</td>\n",
       "      <td>nov</td>\n",
       "      <td>226</td>\n",
       "      <td>1</td>\n",
       "      <td>184</td>\n",
       "      <td>4</td>\n",
       "      <td>success</td>\n",
       "      <td>yes</td>\n",
       "    </tr>\n",
       "    <tr>\n",
       "      <th>45202</th>\n",
       "      <td>34</td>\n",
       "      <td>admin.</td>\n",
       "      <td>single</td>\n",
       "      <td>secondary</td>\n",
       "      <td>no</td>\n",
       "      <td>557</td>\n",
       "      <td>no</td>\n",
       "      <td>no</td>\n",
       "      <td>cellular</td>\n",
       "      <td>17</td>\n",
       "      <td>nov</td>\n",
       "      <td>224</td>\n",
       "      <td>1</td>\n",
       "      <td>-1</td>\n",
       "      <td>0</td>\n",
       "      <td>unknown</td>\n",
       "      <td>yes</td>\n",
       "    </tr>\n",
       "    <tr>\n",
       "      <th>45203</th>\n",
       "      <td>23</td>\n",
       "      <td>student</td>\n",
       "      <td>single</td>\n",
       "      <td>tertiary</td>\n",
       "      <td>no</td>\n",
       "      <td>113</td>\n",
       "      <td>no</td>\n",
       "      <td>no</td>\n",
       "      <td>cellular</td>\n",
       "      <td>17</td>\n",
       "      <td>nov</td>\n",
       "      <td>266</td>\n",
       "      <td>1</td>\n",
       "      <td>-1</td>\n",
       "      <td>0</td>\n",
       "      <td>unknown</td>\n",
       "      <td>yes</td>\n",
       "    </tr>\n",
       "    <tr>\n",
       "      <th>45204</th>\n",
       "      <td>73</td>\n",
       "      <td>retired</td>\n",
       "      <td>married</td>\n",
       "      <td>secondary</td>\n",
       "      <td>no</td>\n",
       "      <td>2850</td>\n",
       "      <td>no</td>\n",
       "      <td>no</td>\n",
       "      <td>cellular</td>\n",
       "      <td>17</td>\n",
       "      <td>nov</td>\n",
       "      <td>300</td>\n",
       "      <td>1</td>\n",
       "      <td>40</td>\n",
       "      <td>8</td>\n",
       "      <td>failure</td>\n",
       "      <td>yes</td>\n",
       "    </tr>\n",
       "    <tr>\n",
       "      <th>45205</th>\n",
       "      <td>25</td>\n",
       "      <td>technician</td>\n",
       "      <td>single</td>\n",
       "      <td>secondary</td>\n",
       "      <td>no</td>\n",
       "      <td>505</td>\n",
       "      <td>no</td>\n",
       "      <td>yes</td>\n",
       "      <td>cellular</td>\n",
       "      <td>17</td>\n",
       "      <td>nov</td>\n",
       "      <td>386</td>\n",
       "      <td>2</td>\n",
       "      <td>-1</td>\n",
       "      <td>0</td>\n",
       "      <td>unknown</td>\n",
       "      <td>yes</td>\n",
       "    </tr>\n",
       "    <tr>\n",
       "      <th>45206</th>\n",
       "      <td>51</td>\n",
       "      <td>technician</td>\n",
       "      <td>married</td>\n",
       "      <td>tertiary</td>\n",
       "      <td>no</td>\n",
       "      <td>825</td>\n",
       "      <td>no</td>\n",
       "      <td>no</td>\n",
       "      <td>cellular</td>\n",
       "      <td>17</td>\n",
       "      <td>nov</td>\n",
       "      <td>977</td>\n",
       "      <td>3</td>\n",
       "      <td>-1</td>\n",
       "      <td>0</td>\n",
       "      <td>unknown</td>\n",
       "      <td>yes</td>\n",
       "    </tr>\n",
       "    <tr>\n",
       "      <th>45207</th>\n",
       "      <td>71</td>\n",
       "      <td>retired</td>\n",
       "      <td>divorced</td>\n",
       "      <td>primary</td>\n",
       "      <td>no</td>\n",
       "      <td>1729</td>\n",
       "      <td>no</td>\n",
       "      <td>no</td>\n",
       "      <td>cellular</td>\n",
       "      <td>17</td>\n",
       "      <td>nov</td>\n",
       "      <td>456</td>\n",
       "      <td>2</td>\n",
       "      <td>-1</td>\n",
       "      <td>0</td>\n",
       "      <td>unknown</td>\n",
       "      <td>yes</td>\n",
       "    </tr>\n",
       "    <tr>\n",
       "      <th>45208</th>\n",
       "      <td>72</td>\n",
       "      <td>retired</td>\n",
       "      <td>married</td>\n",
       "      <td>secondary</td>\n",
       "      <td>no</td>\n",
       "      <td>5715</td>\n",
       "      <td>no</td>\n",
       "      <td>no</td>\n",
       "      <td>cellular</td>\n",
       "      <td>17</td>\n",
       "      <td>nov</td>\n",
       "      <td>1127</td>\n",
       "      <td>5</td>\n",
       "      <td>184</td>\n",
       "      <td>3</td>\n",
       "      <td>success</td>\n",
       "      <td>yes</td>\n",
       "    </tr>\n",
       "    <tr>\n",
       "      <th>45209</th>\n",
       "      <td>57</td>\n",
       "      <td>blue-collar</td>\n",
       "      <td>married</td>\n",
       "      <td>secondary</td>\n",
       "      <td>no</td>\n",
       "      <td>668</td>\n",
       "      <td>no</td>\n",
       "      <td>no</td>\n",
       "      <td>telephone</td>\n",
       "      <td>17</td>\n",
       "      <td>nov</td>\n",
       "      <td>508</td>\n",
       "      <td>4</td>\n",
       "      <td>-1</td>\n",
       "      <td>0</td>\n",
       "      <td>unknown</td>\n",
       "      <td>no</td>\n",
       "    </tr>\n",
       "    <tr>\n",
       "      <th>45210</th>\n",
       "      <td>37</td>\n",
       "      <td>entrepreneur</td>\n",
       "      <td>married</td>\n",
       "      <td>secondary</td>\n",
       "      <td>no</td>\n",
       "      <td>2971</td>\n",
       "      <td>no</td>\n",
       "      <td>no</td>\n",
       "      <td>cellular</td>\n",
       "      <td>17</td>\n",
       "      <td>nov</td>\n",
       "      <td>361</td>\n",
       "      <td>2</td>\n",
       "      <td>188</td>\n",
       "      <td>11</td>\n",
       "      <td>other</td>\n",
       "      <td>no</td>\n",
       "    </tr>\n",
       "  </tbody>\n",
       "</table>\n",
       "<p>45211 rows × 17 columns</p>\n",
       "</div>"
      ],
      "text/plain": [
       "       age            job   marital  education default  balance housing loan  \\\n",
       "0       58     management   married   tertiary      no     2143     yes   no   \n",
       "1       44     technician    single  secondary      no       29     yes   no   \n",
       "2       33   entrepreneur   married  secondary      no        2     yes  yes   \n",
       "3       47    blue-collar   married    unknown      no     1506     yes   no   \n",
       "4       33        unknown    single    unknown      no        1      no   no   \n",
       "5       35     management   married   tertiary      no      231     yes   no   \n",
       "6       28     management    single   tertiary      no      447     yes  yes   \n",
       "7       42   entrepreneur  divorced   tertiary     yes        2     yes   no   \n",
       "8       58        retired   married    primary      no      121     yes   no   \n",
       "9       43     technician    single  secondary      no      593     yes   no   \n",
       "10      41         admin.  divorced  secondary      no      270     yes   no   \n",
       "11      29         admin.    single  secondary      no      390     yes   no   \n",
       "12      53     technician   married  secondary      no        6     yes   no   \n",
       "13      58     technician   married    unknown      no       71     yes   no   \n",
       "14      57       services   married  secondary      no      162     yes   no   \n",
       "15      51        retired   married    primary      no      229     yes   no   \n",
       "16      45         admin.    single    unknown      no       13     yes   no   \n",
       "17      57    blue-collar   married    primary      no       52     yes   no   \n",
       "18      60        retired   married    primary      no       60     yes   no   \n",
       "19      33       services   married  secondary      no        0     yes   no   \n",
       "20      28    blue-collar   married  secondary      no      723     yes  yes   \n",
       "21      56     management   married   tertiary      no      779     yes   no   \n",
       "22      32    blue-collar    single    primary      no       23     yes  yes   \n",
       "23      25       services   married  secondary      no       50     yes   no   \n",
       "24      40        retired   married    primary      no        0     yes  yes   \n",
       "25      44         admin.   married  secondary      no     -372     yes   no   \n",
       "26      39     management    single   tertiary      no      255     yes   no   \n",
       "27      52   entrepreneur   married  secondary      no      113     yes  yes   \n",
       "28      46     management    single  secondary      no     -246     yes   no   \n",
       "29      36     technician    single  secondary      no      265     yes  yes   \n",
       "...    ...            ...       ...        ...     ...      ...     ...  ...   \n",
       "45181   46    blue-collar   married  secondary      no     6879      no   no   \n",
       "45182   34     technician   married  secondary      no      133      no   no   \n",
       "45183   70        retired   married    primary      no      324      no   no   \n",
       "45184   63        retired   married  secondary      no     1495      no   no   \n",
       "45185   60       services   married   tertiary      no     4256     yes   no   \n",
       "45186   59        unknown   married    unknown      no     1500      no   no   \n",
       "45187   32       services    single  secondary      no     1168     yes   no   \n",
       "45188   29     management    single  secondary      no      703     yes   no   \n",
       "45189   25       services    single  secondary      no      199      no   no   \n",
       "45190   32    blue-collar   married  secondary      no      136      no   no   \n",
       "45191   75        retired  divorced   tertiary      no     3810     yes   no   \n",
       "45192   29     management    single   tertiary      no      765      no   no   \n",
       "45193   28  self-employed    single   tertiary      no      159      no   no   \n",
       "45194   59     management   married   tertiary      no      138     yes  yes   \n",
       "45195   68        retired   married  secondary      no     1146      no   no   \n",
       "45196   25        student    single  secondary      no      358      no   no   \n",
       "45197   36     management    single  secondary      no     1511     yes   no   \n",
       "45198   37     management   married   tertiary      no     1428      no   no   \n",
       "45199   34    blue-collar    single  secondary      no     1475     yes   no   \n",
       "45200   38     technician   married  secondary      no      557     yes   no   \n",
       "45201   53     management   married   tertiary      no      583      no   no   \n",
       "45202   34         admin.    single  secondary      no      557      no   no   \n",
       "45203   23        student    single   tertiary      no      113      no   no   \n",
       "45204   73        retired   married  secondary      no     2850      no   no   \n",
       "45205   25     technician    single  secondary      no      505      no  yes   \n",
       "45206   51     technician   married   tertiary      no      825      no   no   \n",
       "45207   71        retired  divorced    primary      no     1729      no   no   \n",
       "45208   72        retired   married  secondary      no     5715      no   no   \n",
       "45209   57    blue-collar   married  secondary      no      668      no   no   \n",
       "45210   37   entrepreneur   married  secondary      no     2971      no   no   \n",
       "\n",
       "         contact  day month  duration  campaign  pdays  previous poutcome    y  \n",
       "0        unknown    5   may       261         1     -1         0  unknown   no  \n",
       "1        unknown    5   may       151         1     -1         0  unknown   no  \n",
       "2        unknown    5   may        76         1     -1         0  unknown   no  \n",
       "3        unknown    5   may        92         1     -1         0  unknown   no  \n",
       "4        unknown    5   may       198         1     -1         0  unknown   no  \n",
       "5        unknown    5   may       139         1     -1         0  unknown   no  \n",
       "6        unknown    5   may       217         1     -1         0  unknown   no  \n",
       "7        unknown    5   may       380         1     -1         0  unknown   no  \n",
       "8        unknown    5   may        50         1     -1         0  unknown   no  \n",
       "9        unknown    5   may        55         1     -1         0  unknown   no  \n",
       "10       unknown    5   may       222         1     -1         0  unknown   no  \n",
       "11       unknown    5   may       137         1     -1         0  unknown   no  \n",
       "12       unknown    5   may       517         1     -1         0  unknown   no  \n",
       "13       unknown    5   may        71         1     -1         0  unknown   no  \n",
       "14       unknown    5   may       174         1     -1         0  unknown   no  \n",
       "15       unknown    5   may       353         1     -1         0  unknown   no  \n",
       "16       unknown    5   may        98         1     -1         0  unknown   no  \n",
       "17       unknown    5   may        38         1     -1         0  unknown   no  \n",
       "18       unknown    5   may       219         1     -1         0  unknown   no  \n",
       "19       unknown    5   may        54         1     -1         0  unknown   no  \n",
       "20       unknown    5   may       262         1     -1         0  unknown   no  \n",
       "21       unknown    5   may       164         1     -1         0  unknown   no  \n",
       "22       unknown    5   may       160         1     -1         0  unknown   no  \n",
       "23       unknown    5   may       342         1     -1         0  unknown   no  \n",
       "24       unknown    5   may       181         1     -1         0  unknown   no  \n",
       "25       unknown    5   may       172         1     -1         0  unknown   no  \n",
       "26       unknown    5   may       296         1     -1         0  unknown   no  \n",
       "27       unknown    5   may       127         1     -1         0  unknown   no  \n",
       "28       unknown    5   may       255         2     -1         0  unknown   no  \n",
       "29       unknown    5   may       348         1     -1         0  unknown   no  \n",
       "...          ...  ...   ...       ...       ...    ...       ...      ...  ...  \n",
       "45181   cellular   15   nov        74         2    118         3  failure   no  \n",
       "45182   cellular   15   nov       401         2    187         5  success  yes  \n",
       "45183   cellular   15   nov        78         1     96         7  success   no  \n",
       "45184   cellular   16   nov       138         1     22         5  success   no  \n",
       "45185   cellular   16   nov       200         1     92         4  success  yes  \n",
       "45186   cellular   16   nov       280         1    104         2  failure   no  \n",
       "45187   cellular   16   nov       411         1     -1         0  unknown  yes  \n",
       "45188   cellular   16   nov       236         1    550         2  success  yes  \n",
       "45189   cellular   16   nov       173         1     92         5  failure   no  \n",
       "45190   cellular   16   nov       206         1    188         3  success  yes  \n",
       "45191   cellular   16   nov       262         1    183         1  failure  yes  \n",
       "45192   cellular   16   nov       238         1     -1         0  unknown  yes  \n",
       "45193   cellular   16   nov       449         2     33         4  success  yes  \n",
       "45194   cellular   16   nov       162         2    187         5  failure   no  \n",
       "45195   cellular   16   nov       212         1    187         6  success  yes  \n",
       "45196   cellular   16   nov       330         1     -1         0  unknown  yes  \n",
       "45197   cellular   16   nov       270         1     -1         0  unknown  yes  \n",
       "45198   cellular   16   nov       333         2     -1         0  unknown   no  \n",
       "45199   cellular   16   nov      1166         3    530        12    other   no  \n",
       "45200   cellular   16   nov      1556         4     -1         0  unknown  yes  \n",
       "45201   cellular   17   nov       226         1    184         4  success  yes  \n",
       "45202   cellular   17   nov       224         1     -1         0  unknown  yes  \n",
       "45203   cellular   17   nov       266         1     -1         0  unknown  yes  \n",
       "45204   cellular   17   nov       300         1     40         8  failure  yes  \n",
       "45205   cellular   17   nov       386         2     -1         0  unknown  yes  \n",
       "45206   cellular   17   nov       977         3     -1         0  unknown  yes  \n",
       "45207   cellular   17   nov       456         2     -1         0  unknown  yes  \n",
       "45208   cellular   17   nov      1127         5    184         3  success  yes  \n",
       "45209  telephone   17   nov       508         4     -1         0  unknown   no  \n",
       "45210   cellular   17   nov       361         2    188        11    other   no  \n",
       "\n",
       "[45211 rows x 17 columns]"
      ]
     },
     "execution_count": 25,
     "metadata": {
      "tags": []
     },
     "output_type": "execute_result"
    }
   ],
   "source": [
    "df"
   ]
  },
  {
   "cell_type": "markdown",
   "metadata": {
    "colab_type": "text",
    "id": "NiQMXc284Rqu"
   },
   "source": [
    "__As there are no missing values or null values the data is already preprocessed. Now we will be checking for correlation between the variables.__\n",
    "\n",
    "__In the below section we are calculating correlation between numerical variables just to see the correaltion between them. Correlation matrix is the measurement of the relation between two or more variables.__"
   ]
  },
  {
   "cell_type": "code",
   "execution_count": 0,
   "metadata": {
    "colab": {
     "base_uri": "https://localhost:8080/",
     "height": 187
    },
    "colab_type": "code",
    "id": "TYEMrF6R35_a",
    "outputId": "da201c1a-5e49-4794-8ff1-b17e7a87b5a1"
   },
   "outputs": [
    {
     "data": {
      "text/html": [
       "<style  type=\"text/css\" >\n",
       "    #T_2d64f78c_662f_11e9_ac85_0242ac1c0002row0_col0 {\n",
       "            background-color:  #023858;\n",
       "            color:  #f1f1f1;\n",
       "        }    #T_2d64f78c_662f_11e9_ac85_0242ac1c0002row0_col1 {\n",
       "            background-color:  #eee9f3;\n",
       "            color:  #000000;\n",
       "        }    #T_2d64f78c_662f_11e9_ac85_0242ac1c0002row0_col2 {\n",
       "            background-color:  #f4edf6;\n",
       "            color:  #000000;\n",
       "        }    #T_2d64f78c_662f_11e9_ac85_0242ac1c0002row0_col3 {\n",
       "            background-color:  #f4eef6;\n",
       "            color:  #000000;\n",
       "        }    #T_2d64f78c_662f_11e9_ac85_0242ac1c0002row0_col4 {\n",
       "            background-color:  #f2ecf5;\n",
       "            color:  #000000;\n",
       "        }    #T_2d64f78c_662f_11e9_ac85_0242ac1c0002row0_col5 {\n",
       "            background-color:  #f5eff6;\n",
       "            color:  #000000;\n",
       "        }    #T_2d64f78c_662f_11e9_ac85_0242ac1c0002row0_col6 {\n",
       "            background-color:  #f8f1f8;\n",
       "            color:  #000000;\n",
       "        }    #T_2d64f78c_662f_11e9_ac85_0242ac1c0002row1_col0 {\n",
       "            background-color:  #ede8f3;\n",
       "            color:  #000000;\n",
       "        }    #T_2d64f78c_662f_11e9_ac85_0242ac1c0002row1_col1 {\n",
       "            background-color:  #023858;\n",
       "            color:  #f1f1f1;\n",
       "        }    #T_2d64f78c_662f_11e9_ac85_0242ac1c0002row1_col2 {\n",
       "            background-color:  #f2ecf5;\n",
       "            color:  #000000;\n",
       "        }    #T_2d64f78c_662f_11e9_ac85_0242ac1c0002row1_col3 {\n",
       "            background-color:  #f0eaf4;\n",
       "            color:  #000000;\n",
       "        }    #T_2d64f78c_662f_11e9_ac85_0242ac1c0002row1_col4 {\n",
       "            background-color:  #f5eef6;\n",
       "            color:  #000000;\n",
       "        }    #T_2d64f78c_662f_11e9_ac85_0242ac1c0002row1_col5 {\n",
       "            background-color:  #f2ecf5;\n",
       "            color:  #000000;\n",
       "        }    #T_2d64f78c_662f_11e9_ac85_0242ac1c0002row1_col6 {\n",
       "            background-color:  #f5eff6;\n",
       "            color:  #000000;\n",
       "        }    #T_2d64f78c_662f_11e9_ac85_0242ac1c0002row2_col0 {\n",
       "            background-color:  #fdf5fa;\n",
       "            color:  #000000;\n",
       "        }    #T_2d64f78c_662f_11e9_ac85_0242ac1c0002row2_col1 {\n",
       "            background-color:  #fdf5fa;\n",
       "            color:  #000000;\n",
       "        }    #T_2d64f78c_662f_11e9_ac85_0242ac1c0002row2_col2 {\n",
       "            background-color:  #023858;\n",
       "            color:  #f1f1f1;\n",
       "        }    #T_2d64f78c_662f_11e9_ac85_0242ac1c0002row2_col3 {\n",
       "            background-color:  #f8f1f8;\n",
       "            color:  #000000;\n",
       "        }    #T_2d64f78c_662f_11e9_ac85_0242ac1c0002row2_col4 {\n",
       "            background-color:  #d4d4e8;\n",
       "            color:  #000000;\n",
       "        }    #T_2d64f78c_662f_11e9_ac85_0242ac1c0002row2_col5 {\n",
       "            background-color:  #fff7fb;\n",
       "            color:  #000000;\n",
       "        }    #T_2d64f78c_662f_11e9_ac85_0242ac1c0002row2_col6 {\n",
       "            background-color:  #fff7fb;\n",
       "            color:  #000000;\n",
       "        }    #T_2d64f78c_662f_11e9_ac85_0242ac1c0002row3_col0 {\n",
       "            background-color:  #fdf5fa;\n",
       "            color:  #000000;\n",
       "        }    #T_2d64f78c_662f_11e9_ac85_0242ac1c0002row3_col1 {\n",
       "            background-color:  #faf2f8;\n",
       "            color:  #000000;\n",
       "        }    #T_2d64f78c_662f_11e9_ac85_0242ac1c0002row3_col2 {\n",
       "            background-color:  #f7f0f7;\n",
       "            color:  #000000;\n",
       "        }    #T_2d64f78c_662f_11e9_ac85_0242ac1c0002row3_col3 {\n",
       "            background-color:  #023858;\n",
       "            color:  #f1f1f1;\n",
       "        }    #T_2d64f78c_662f_11e9_ac85_0242ac1c0002row3_col4 {\n",
       "            background-color:  #fff7fb;\n",
       "            color:  #000000;\n",
       "        }    #T_2d64f78c_662f_11e9_ac85_0242ac1c0002row3_col5 {\n",
       "            background-color:  #f2ecf5;\n",
       "            color:  #000000;\n",
       "        }    #T_2d64f78c_662f_11e9_ac85_0242ac1c0002row3_col6 {\n",
       "            background-color:  #f8f1f8;\n",
       "            color:  #000000;\n",
       "        }    #T_2d64f78c_662f_11e9_ac85_0242ac1c0002row4_col0 {\n",
       "            background-color:  #fbf3f9;\n",
       "            color:  #000000;\n",
       "        }    #T_2d64f78c_662f_11e9_ac85_0242ac1c0002row4_col1 {\n",
       "            background-color:  #fff7fb;\n",
       "            color:  #000000;\n",
       "        }    #T_2d64f78c_662f_11e9_ac85_0242ac1c0002row4_col2 {\n",
       "            background-color:  #d4d4e8;\n",
       "            color:  #000000;\n",
       "        }    #T_2d64f78c_662f_11e9_ac85_0242ac1c0002row4_col3 {\n",
       "            background-color:  #fff7fb;\n",
       "            color:  #000000;\n",
       "        }    #T_2d64f78c_662f_11e9_ac85_0242ac1c0002row4_col4 {\n",
       "            background-color:  #023858;\n",
       "            color:  #f1f1f1;\n",
       "        }    #T_2d64f78c_662f_11e9_ac85_0242ac1c0002row4_col5 {\n",
       "            background-color:  #fef6fb;\n",
       "            color:  #000000;\n",
       "        }    #T_2d64f78c_662f_11e9_ac85_0242ac1c0002row4_col6 {\n",
       "            background-color:  #fdf5fa;\n",
       "            color:  #000000;\n",
       "        }    #T_2d64f78c_662f_11e9_ac85_0242ac1c0002row5_col0 {\n",
       "            background-color:  #fff7fb;\n",
       "            color:  #000000;\n",
       "        }    #T_2d64f78c_662f_11e9_ac85_0242ac1c0002row5_col1 {\n",
       "            background-color:  #fdf5fa;\n",
       "            color:  #000000;\n",
       "        }    #T_2d64f78c_662f_11e9_ac85_0242ac1c0002row5_col2 {\n",
       "            background-color:  #fff7fb;\n",
       "            color:  #000000;\n",
       "        }    #T_2d64f78c_662f_11e9_ac85_0242ac1c0002row5_col3 {\n",
       "            background-color:  #f4edf6;\n",
       "            color:  #000000;\n",
       "        }    #T_2d64f78c_662f_11e9_ac85_0242ac1c0002row5_col4 {\n",
       "            background-color:  #fff7fb;\n",
       "            color:  #000000;\n",
       "        }    #T_2d64f78c_662f_11e9_ac85_0242ac1c0002row5_col5 {\n",
       "            background-color:  #023858;\n",
       "            color:  #f1f1f1;\n",
       "        }    #T_2d64f78c_662f_11e9_ac85_0242ac1c0002row5_col6 {\n",
       "            background-color:  #7bacd1;\n",
       "            color:  #000000;\n",
       "        }    #T_2d64f78c_662f_11e9_ac85_0242ac1c0002row6_col0 {\n",
       "            background-color:  #fbf4f9;\n",
       "            color:  #000000;\n",
       "        }    #T_2d64f78c_662f_11e9_ac85_0242ac1c0002row6_col1 {\n",
       "            background-color:  #fbf3f9;\n",
       "            color:  #000000;\n",
       "        }    #T_2d64f78c_662f_11e9_ac85_0242ac1c0002row6_col2 {\n",
       "            background-color:  #faf2f8;\n",
       "            color:  #000000;\n",
       "        }    #T_2d64f78c_662f_11e9_ac85_0242ac1c0002row6_col3 {\n",
       "            background-color:  #f3edf5;\n",
       "            color:  #000000;\n",
       "        }    #T_2d64f78c_662f_11e9_ac85_0242ac1c0002row6_col4 {\n",
       "            background-color:  #f7f0f7;\n",
       "            color:  #000000;\n",
       "        }    #T_2d64f78c_662f_11e9_ac85_0242ac1c0002row6_col5 {\n",
       "            background-color:  #73a9cf;\n",
       "            color:  #000000;\n",
       "        }    #T_2d64f78c_662f_11e9_ac85_0242ac1c0002row6_col6 {\n",
       "            background-color:  #023858;\n",
       "            color:  #f1f1f1;\n",
       "        }</style><table id=\"T_2d64f78c_662f_11e9_ac85_0242ac1c0002\" ><thead>    <tr>        <th class=\"blank level0\" ></th>        <th class=\"col_heading level0 col0\" >age</th>        <th class=\"col_heading level0 col1\" >balance</th>        <th class=\"col_heading level0 col2\" >day</th>        <th class=\"col_heading level0 col3\" >duration</th>        <th class=\"col_heading level0 col4\" >campaign</th>        <th class=\"col_heading level0 col5\" >pdays</th>        <th class=\"col_heading level0 col6\" >previous</th>    </tr></thead><tbody>\n",
       "                <tr>\n",
       "                        <th id=\"T_2d64f78c_662f_11e9_ac85_0242ac1c0002level0_row0\" class=\"row_heading level0 row0\" >age</th>\n",
       "                        <td id=\"T_2d64f78c_662f_11e9_ac85_0242ac1c0002row0_col0\" class=\"data row0 col0\" >1</td>\n",
       "                        <td id=\"T_2d64f78c_662f_11e9_ac85_0242ac1c0002row0_col1\" class=\"data row0 col1\" >0.0977827</td>\n",
       "                        <td id=\"T_2d64f78c_662f_11e9_ac85_0242ac1c0002row0_col2\" class=\"data row0 col2\" >-0.00912005</td>\n",
       "                        <td id=\"T_2d64f78c_662f_11e9_ac85_0242ac1c0002row0_col3\" class=\"data row0 col3\" >-0.00464843</td>\n",
       "                        <td id=\"T_2d64f78c_662f_11e9_ac85_0242ac1c0002row0_col4\" class=\"data row0 col4\" >0.00476031</td>\n",
       "                        <td id=\"T_2d64f78c_662f_11e9_ac85_0242ac1c0002row0_col5\" class=\"data row0 col5\" >-0.023758</td>\n",
       "                        <td id=\"T_2d64f78c_662f_11e9_ac85_0242ac1c0002row0_col6\" class=\"data row0 col6\" >0.00128832</td>\n",
       "            </tr>\n",
       "            <tr>\n",
       "                        <th id=\"T_2d64f78c_662f_11e9_ac85_0242ac1c0002level0_row1\" class=\"row_heading level0 row1\" >balance</th>\n",
       "                        <td id=\"T_2d64f78c_662f_11e9_ac85_0242ac1c0002row1_col0\" class=\"data row1 col0\" >0.0977827</td>\n",
       "                        <td id=\"T_2d64f78c_662f_11e9_ac85_0242ac1c0002row1_col1\" class=\"data row1 col1\" >1</td>\n",
       "                        <td id=\"T_2d64f78c_662f_11e9_ac85_0242ac1c0002row1_col2\" class=\"data row1 col2\" >0.00450259</td>\n",
       "                        <td id=\"T_2d64f78c_662f_11e9_ac85_0242ac1c0002row1_col3\" class=\"data row1 col3\" >0.0215604</td>\n",
       "                        <td id=\"T_2d64f78c_662f_11e9_ac85_0242ac1c0002row1_col4\" class=\"data row1 col4\" >-0.0145783</td>\n",
       "                        <td id=\"T_2d64f78c_662f_11e9_ac85_0242ac1c0002row1_col5\" class=\"data row1 col5\" >0.00343532</td>\n",
       "                        <td id=\"T_2d64f78c_662f_11e9_ac85_0242ac1c0002row1_col6\" class=\"data row1 col6\" >0.0166736</td>\n",
       "            </tr>\n",
       "            <tr>\n",
       "                        <th id=\"T_2d64f78c_662f_11e9_ac85_0242ac1c0002level0_row2\" class=\"row_heading level0 row2\" >day</th>\n",
       "                        <td id=\"T_2d64f78c_662f_11e9_ac85_0242ac1c0002row2_col0\" class=\"data row2 col0\" >-0.00912005</td>\n",
       "                        <td id=\"T_2d64f78c_662f_11e9_ac85_0242ac1c0002row2_col1\" class=\"data row2 col1\" >0.00450259</td>\n",
       "                        <td id=\"T_2d64f78c_662f_11e9_ac85_0242ac1c0002row2_col2\" class=\"data row2 col2\" >1</td>\n",
       "                        <td id=\"T_2d64f78c_662f_11e9_ac85_0242ac1c0002row2_col3\" class=\"data row2 col3\" >-0.0302063</td>\n",
       "                        <td id=\"T_2d64f78c_662f_11e9_ac85_0242ac1c0002row2_col4\" class=\"data row2 col4\" >0.16249</td>\n",
       "                        <td id=\"T_2d64f78c_662f_11e9_ac85_0242ac1c0002row2_col5\" class=\"data row2 col5\" >-0.0930441</td>\n",
       "                        <td id=\"T_2d64f78c_662f_11e9_ac85_0242ac1c0002row2_col6\" class=\"data row2 col6\" >-0.0517105</td>\n",
       "            </tr>\n",
       "            <tr>\n",
       "                        <th id=\"T_2d64f78c_662f_11e9_ac85_0242ac1c0002level0_row3\" class=\"row_heading level0 row3\" >duration</th>\n",
       "                        <td id=\"T_2d64f78c_662f_11e9_ac85_0242ac1c0002row3_col0\" class=\"data row3 col0\" >-0.00464843</td>\n",
       "                        <td id=\"T_2d64f78c_662f_11e9_ac85_0242ac1c0002row3_col1\" class=\"data row3 col1\" >0.0215604</td>\n",
       "                        <td id=\"T_2d64f78c_662f_11e9_ac85_0242ac1c0002row3_col2\" class=\"data row3 col2\" >-0.0302063</td>\n",
       "                        <td id=\"T_2d64f78c_662f_11e9_ac85_0242ac1c0002row3_col3\" class=\"data row3 col3\" >1</td>\n",
       "                        <td id=\"T_2d64f78c_662f_11e9_ac85_0242ac1c0002row3_col4\" class=\"data row3 col4\" >-0.0845695</td>\n",
       "                        <td id=\"T_2d64f78c_662f_11e9_ac85_0242ac1c0002row3_col5\" class=\"data row3 col5\" >-0.00156477</td>\n",
       "                        <td id=\"T_2d64f78c_662f_11e9_ac85_0242ac1c0002row3_col6\" class=\"data row3 col6\" >0.00120306</td>\n",
       "            </tr>\n",
       "            <tr>\n",
       "                        <th id=\"T_2d64f78c_662f_11e9_ac85_0242ac1c0002level0_row4\" class=\"row_heading level0 row4\" >campaign</th>\n",
       "                        <td id=\"T_2d64f78c_662f_11e9_ac85_0242ac1c0002row4_col0\" class=\"data row4 col0\" >0.00476031</td>\n",
       "                        <td id=\"T_2d64f78c_662f_11e9_ac85_0242ac1c0002row4_col1\" class=\"data row4 col1\" >-0.0145783</td>\n",
       "                        <td id=\"T_2d64f78c_662f_11e9_ac85_0242ac1c0002row4_col2\" class=\"data row4 col2\" >0.16249</td>\n",
       "                        <td id=\"T_2d64f78c_662f_11e9_ac85_0242ac1c0002row4_col3\" class=\"data row4 col3\" >-0.0845695</td>\n",
       "                        <td id=\"T_2d64f78c_662f_11e9_ac85_0242ac1c0002row4_col4\" class=\"data row4 col4\" >1</td>\n",
       "                        <td id=\"T_2d64f78c_662f_11e9_ac85_0242ac1c0002row4_col5\" class=\"data row4 col5\" >-0.0886277</td>\n",
       "                        <td id=\"T_2d64f78c_662f_11e9_ac85_0242ac1c0002row4_col6\" class=\"data row4 col6\" >-0.0328553</td>\n",
       "            </tr>\n",
       "            <tr>\n",
       "                        <th id=\"T_2d64f78c_662f_11e9_ac85_0242ac1c0002level0_row5\" class=\"row_heading level0 row5\" >pdays</th>\n",
       "                        <td id=\"T_2d64f78c_662f_11e9_ac85_0242ac1c0002row5_col0\" class=\"data row5 col0\" >-0.023758</td>\n",
       "                        <td id=\"T_2d64f78c_662f_11e9_ac85_0242ac1c0002row5_col1\" class=\"data row5 col1\" >0.00343532</td>\n",
       "                        <td id=\"T_2d64f78c_662f_11e9_ac85_0242ac1c0002row5_col2\" class=\"data row5 col2\" >-0.0930441</td>\n",
       "                        <td id=\"T_2d64f78c_662f_11e9_ac85_0242ac1c0002row5_col3\" class=\"data row5 col3\" >-0.00156477</td>\n",
       "                        <td id=\"T_2d64f78c_662f_11e9_ac85_0242ac1c0002row5_col4\" class=\"data row5 col4\" >-0.0886277</td>\n",
       "                        <td id=\"T_2d64f78c_662f_11e9_ac85_0242ac1c0002row5_col5\" class=\"data row5 col5\" >1</td>\n",
       "                        <td id=\"T_2d64f78c_662f_11e9_ac85_0242ac1c0002row5_col6\" class=\"data row5 col6\" >0.45482</td>\n",
       "            </tr>\n",
       "            <tr>\n",
       "                        <th id=\"T_2d64f78c_662f_11e9_ac85_0242ac1c0002level0_row6\" class=\"row_heading level0 row6\" >previous</th>\n",
       "                        <td id=\"T_2d64f78c_662f_11e9_ac85_0242ac1c0002row6_col0\" class=\"data row6 col0\" >0.00128832</td>\n",
       "                        <td id=\"T_2d64f78c_662f_11e9_ac85_0242ac1c0002row6_col1\" class=\"data row6 col1\" >0.0166736</td>\n",
       "                        <td id=\"T_2d64f78c_662f_11e9_ac85_0242ac1c0002row6_col2\" class=\"data row6 col2\" >-0.0517105</td>\n",
       "                        <td id=\"T_2d64f78c_662f_11e9_ac85_0242ac1c0002row6_col3\" class=\"data row6 col3\" >0.00120306</td>\n",
       "                        <td id=\"T_2d64f78c_662f_11e9_ac85_0242ac1c0002row6_col4\" class=\"data row6 col4\" >-0.0328553</td>\n",
       "                        <td id=\"T_2d64f78c_662f_11e9_ac85_0242ac1c0002row6_col5\" class=\"data row6 col5\" >0.45482</td>\n",
       "                        <td id=\"T_2d64f78c_662f_11e9_ac85_0242ac1c0002row6_col6\" class=\"data row6 col6\" >1</td>\n",
       "            </tr>\n",
       "    </tbody></table>"
      ],
      "text/plain": [
       "<pandas.io.formats.style.Styler at 0x7f102e7df5c0>"
      ]
     },
     "execution_count": 26,
     "metadata": {
      "tags": []
     },
     "output_type": "execute_result"
    }
   ],
   "source": [
    "corr = df.corr()\n",
    "corr.style.background_gradient()"
   ]
  },
  {
   "cell_type": "markdown",
   "metadata": {
    "colab_type": "text",
    "id": "Aq_bVubq4TkP"
   },
   "source": [
    "__We can see that the varibales pdays<-->previous are slightly correlated to each other.__"
   ]
  },
  {
   "cell_type": "code",
   "execution_count": 0,
   "metadata": {
    "colab": {},
    "colab_type": "code",
    "id": "b5Tl6Fw74Fxo"
   },
   "outputs": [],
   "source": [
    "a= df.groupby(['marital','loan']).count()"
   ]
  },
  {
   "cell_type": "code",
   "execution_count": 0,
   "metadata": {
    "colab": {
     "base_uri": "https://localhost:8080/",
     "height": 300
    },
    "colab_type": "code",
    "id": "x0lEsz6c4eCr",
    "outputId": "9365213e-e96f-47f9-e790-ecedf155aed2"
   },
   "outputs": [
    {
     "data": {
      "text/plain": [
       "<matplotlib.axes._subplots.AxesSubplot at 0x7f102b6f5da0>"
      ]
     },
     "execution_count": 28,
     "metadata": {
      "tags": []
     },
     "output_type": "execute_result"
    },
    {
     "data": {
      "image/png": "[encoded data removed]",
      "text/plain": [
       "<Figure size 432x288 with 1 Axes>"
      ]
     },
     "metadata": {
      "tags": []
     },
     "output_type": "display_data"
    }
   ],
   "source": [
    "sns.violinplot(df['loan'],df['age'])"
   ]
  },
  {
   "cell_type": "markdown",
   "metadata": {
    "colab_type": "text",
    "id": "xKHRLkHG4hJD"
   },
   "source": [
    "__From the above visualization, we can say that the median age of people taken loan is 38-39 yrs.__\n",
    "\n",
    "__The major people with age group 20-60 has already taken loan.__\n",
    "\n",
    "__There are still some people of age of nearly 90+ has not taken loan till date.__"
   ]
  },
  {
   "cell_type": "code",
   "execution_count": 0,
   "metadata": {
    "colab": {
     "base_uri": "https://localhost:8080/",
     "height": 638
    },
    "colab_type": "code",
    "id": "XYQ3TL145eED",
    "outputId": "1661dd2c-ea50-4af2-e718-5db2f601c62c"
   },
   "outputs": [
    {
     "data": {
      "text/plain": [
       "[<matplotlib.lines.Line2D at 0x7f102b67c2e8>]"
      ]
     },
     "execution_count": 29,
     "metadata": {
      "tags": []
     },
     "output_type": "execute_result"
    },
    {
     "data": {
      "image/png": "[encoded data removed]",
      "text/plain": [
       "<Figure size 1440x720 with 1 Axes>"
      ]
     },
     "metadata": {
      "tags": []
     },
     "output_type": "display_data"
    }
   ],
   "source": [
    "var = df.groupby('job').balance.max()\n",
    "fig = plt.figure()\n",
    "fig.set_size_inches(20,10)\n",
    "ax1 = fig.add_subplot(1,1,1)\n",
    "ax1.set_xlabel('BMI')\n",
    "ax1.set_ylabel('Balance')\n",
    "ax1.set_title(\"Max Balance wise job\")\n",
    "plt.plot(var)"
   ]
  },
  {
   "cell_type": "markdown",
   "metadata": {
    "colab_type": "text",
    "id": "zmZ6IzgW5g2z"
   },
   "source": [
    "__From the above figure we can see that the people who are in the management job have the highest balance in their bank account followed by the retired people.__\n",
    "\n",
    "__The people whose job are unknown or a student have the least balance in their bank account.__"
   ]
  },
  {
   "cell_type": "code",
   "execution_count": 0,
   "metadata": {
    "colab": {},
    "colab_type": "code",
    "id": "lICmxAZQ5mr9"
   },
   "outputs": [],
   "source": [
    "b = df.groupby('month').campaign.count()"
   ]
  },
  {
   "cell_type": "code",
   "execution_count": 0,
   "metadata": {
    "colab": {
     "base_uri": "https://localhost:8080/",
     "height": 650
    },
    "colab_type": "code",
    "id": "37xsntov5rb-",
    "outputId": "40bec042-9187-407e-9233-8232151dd293"
   },
   "outputs": [
    {
     "data": {
      "text/plain": [
       "Text(0, 0.5, 'Total Campaigns')"
      ]
     },
     "execution_count": 31,
     "metadata": {
      "tags": []
     },
     "output_type": "execute_result"
    },
    {
     "data": {
      "image/png": "[encoded data removed]",
      "text/plain": [
       "<Figure size 1440x720 with 1 Axes>"
      ]
     },
     "metadata": {
      "tags": []
     },
     "output_type": "display_data"
    }
   ],
   "source": [
    "fig = plt.figure()\n",
    "fig.set_size_inches(20,10)\n",
    "ax1 = fig.add_subplot(1,1,1)\n",
    "ax1.set_title(\"Total Campaigns carried out in the particular month\")\n",
    "b.plot(kind='bar',stacked=True,  color=['blue'], grid=False)\n",
    "plt.ylabel('Total Campaigns')"
   ]
  },
  {
   "cell_type": "markdown",
   "metadata": {
    "colab_type": "text",
    "id": "qOS5ZW1q5xYa"
   },
   "source": [
    "__In the above figure, we can see that almost 13k+ campaigns were carried out in the month of May followed by July.__\n",
    "\n",
    "__The least campaigns were carried out in the month of December.__\n",
    "\n",
    "__In the month of August and June the avaerage number of campaigns were ran.__"
   ]
  },
  {
   "cell_type": "code",
   "execution_count": 0,
   "metadata": {
    "colab": {
     "base_uri": "https://localhost:8080/",
     "height": 3332
    },
    "colab_type": "code",
    "id": "YhI7FDNQ5to6",
    "outputId": "a622280a-9e35-4364-d39c-75ab21e55159"
   },
   "outputs": [
    {
     "name": "stdout",
     "output_type": "stream",
     "text": [
      "Empty DataFrame\n",
      "Columns: [age]\n",
      "Index: []\n",
      "       age\n",
      "0       58\n",
      "1       44\n",
      "2       33\n",
      "3       47\n",
      "4       33\n",
      "5       35\n",
      "6       28\n",
      "7       42\n",
      "8       58\n",
      "9       43\n",
      "10      41\n",
      "11      29\n",
      "12      53\n",
      "13      58\n",
      "14      57\n",
      "15      51\n",
      "16      45\n",
      "17      57\n",
      "19      33\n",
      "20      28\n",
      "21      56\n",
      "22      32\n",
      "23      25\n",
      "24      40\n",
      "25      44\n",
      "26      39\n",
      "27      52\n",
      "28      46\n",
      "29      36\n",
      "30      57\n",
      "...    ...\n",
      "45171   33\n",
      "45172   30\n",
      "45173   36\n",
      "45175   38\n",
      "45176   54\n",
      "45177   36\n",
      "45178   34\n",
      "45179   34\n",
      "45181   46\n",
      "45182   34\n",
      "45186   59\n",
      "45187   32\n",
      "45188   29\n",
      "45189   25\n",
      "45190   32\n",
      "45192   29\n",
      "45193   28\n",
      "45194   59\n",
      "45196   25\n",
      "45197   36\n",
      "45198   37\n",
      "45199   34\n",
      "45200   38\n",
      "45201   53\n",
      "45202   34\n",
      "45203   23\n",
      "45205   25\n",
      "45206   51\n",
      "45209   57\n",
      "45210   37\n",
      "\n",
      "[43427 rows x 1 columns]\n",
      "       age\n",
      "18      60\n",
      "32      60\n",
      "42      60\n",
      "66      60\n",
      "92      60\n",
      "93      60\n",
      "97      60\n",
      "157     60\n",
      "174     60\n",
      "199     61\n",
      "390     60\n",
      "508     60\n",
      "575     61\n",
      "668     60\n",
      "725     60\n",
      "976     60\n",
      "1037    60\n",
      "1233    61\n",
      "1260    60\n",
      "1379    60\n",
      "1427    60\n",
      "1470    60\n",
      "1600    60\n",
      "1765    60\n",
      "1795    60\n",
      "2077    60\n",
      "2119    60\n",
      "2435    61\n",
      "2483    60\n",
      "2570    60\n",
      "...    ...\n",
      "45096   63\n",
      "45097   61\n",
      "45101   74\n",
      "45104   73\n",
      "45109   78\n",
      "45111   64\n",
      "45118   78\n",
      "45127   67\n",
      "45132   61\n",
      "45134   70\n",
      "45140   63\n",
      "45141   77\n",
      "45144   60\n",
      "45150   65\n",
      "45152   61\n",
      "45153   64\n",
      "45154   63\n",
      "45159   60\n",
      "45163   71\n",
      "45168   62\n",
      "45174   62\n",
      "45180   66\n",
      "45183   70\n",
      "45184   63\n",
      "45185   60\n",
      "45191   75\n",
      "45195   68\n",
      "45204   73\n",
      "45207   71\n",
      "45208   72\n",
      "\n",
      "[1784 rows x 1 columns]\n",
      "             age\n",
      "18-59 0       58\n",
      "      1       44\n",
      "      2       33\n",
      "      3       47\n",
      "      4       33\n",
      "      5       35\n",
      "      6       28\n",
      "      7       42\n",
      "      8       58\n",
      "      9       43\n",
      "      10      41\n",
      "      11      29\n",
      "      12      53\n",
      "      13      58\n",
      "      14      57\n",
      "      15      51\n",
      "      16      45\n",
      "      17      57\n",
      "      19      33\n",
      "      20      28\n",
      "      21      56\n",
      "      22      32\n",
      "      23      25\n",
      "      24      40\n",
      "      25      44\n",
      "      26      39\n",
      "      27      52\n",
      "      28      46\n",
      "      29      36\n",
      "      30      57\n",
      "...          ...\n",
      "60+   45096   63\n",
      "      45097   61\n",
      "      45101   74\n",
      "      45104   73\n",
      "      45109   78\n",
      "      45111   64\n",
      "      45118   78\n",
      "      45127   67\n",
      "      45132   61\n",
      "      45134   70\n",
      "      45140   63\n",
      "      45141   77\n",
      "      45144   60\n",
      "      45150   65\n",
      "      45152   61\n",
      "      45153   64\n",
      "      45154   63\n",
      "      45159   60\n",
      "      45163   71\n",
      "      45168   62\n",
      "      45174   62\n",
      "      45180   66\n",
      "      45183   70\n",
      "      45184   63\n",
      "      45185   60\n",
      "      45191   75\n",
      "      45195   68\n",
      "      45204   73\n",
      "      45207   71\n",
      "      45208   72\n",
      "\n",
      "[45211 rows x 1 columns]\n"
     ]
    }
   ],
   "source": [
    "a=df.loc[df.age<18,['age']]\n",
    "print(a)\n",
    "b=df.loc[(df.age >= 18) & (df.age < 60),['age']]\n",
    "print(b)\n",
    "c=df.loc[df.age>=60,['age']]\n",
    "print(c)\n",
    "d=pd.concat([a,b,c],keys=[\"0-17\",\"18-59\",\"60+\"])\n",
    "e=d.loc[:,['age']]\n",
    "print(e)"
   ]
  },
  {
   "cell_type": "code",
   "execution_count": 0,
   "metadata": {
    "colab": {
     "base_uri": "https://localhost:8080/",
     "height": 1122
    },
    "colab_type": "code",
    "id": "4_RHtG-D59ot",
    "outputId": "d828b780-f3f9-4b08-dadc-6747c8d65378"
   },
   "outputs": [
    {
     "name": "stdout",
     "output_type": "stream",
     "text": [
      "groups  17-30  31-59  60+\n",
      "age                      \n",
      "18         12      0    0\n",
      "19         35      0    0\n",
      "20         50      0    0\n",
      "21         79      0    0\n",
      "22        129      0    0\n",
      "23        202      0    0\n",
      "24        302      0    0\n",
      "25        527      0    0\n",
      "26        805      0    0\n",
      "27        909      0    0\n",
      "28       1038      0    0\n",
      "29       1185      0    0\n",
      "30       1757      0    0\n",
      "31       1996      0    0\n",
      "32          0   2085    0\n",
      "33          0   1972    0\n",
      "34          0   1930    0\n",
      "35          0   1894    0\n",
      "36          0   1806    0\n",
      "37          0   1696    0\n",
      "38          0   1466    0\n",
      "39          0   1487    0\n",
      "40          0   1355    0\n",
      "41          0   1291    0\n",
      "42          0   1242    0\n",
      "43          0   1161    0\n",
      "44          0   1136    0\n",
      "45          0   1216    0\n",
      "46          0   1175    0\n",
      "47          0   1088    0\n",
      "..        ...    ...  ...\n",
      "65          0      0   59\n",
      "66          0      0   63\n",
      "67          0      0   54\n",
      "68          0      0   36\n",
      "69          0      0   44\n",
      "70          0      0   67\n",
      "71          0      0   54\n",
      "72          0      0   52\n",
      "73          0      0   44\n",
      "74          0      0   37\n",
      "75          0      0   39\n",
      "76          0      0   32\n",
      "77          0      0   44\n",
      "78          0      0   30\n",
      "79          0      0   25\n",
      "80          0      0   31\n",
      "81          0      0   17\n",
      "82          0      0   19\n",
      "83          0      0   22\n",
      "84          0      0    9\n",
      "85          0      0    5\n",
      "86          0      0    9\n",
      "87          0      0    4\n",
      "88          0      0    2\n",
      "89          0      0    3\n",
      "90          0      0    2\n",
      "92          0      0    2\n",
      "93          0      0    2\n",
      "94          0      0    1\n",
      "95          0      0    2\n",
      "\n",
      "[77 rows x 3 columns]\n"
     ]
    }
   ],
   "source": [
    "df['groups'] = pd.cut(df['age'],bins=[17,31,59,120], labels=[\"17-30\",\"31-59\",\"60+\"])\n",
    "df1 = df.groupby(['age', 'groups']).size().unstack(fill_value=0)\n",
    "print (df1)"
   ]
  },
  {
   "cell_type": "code",
   "execution_count": 0,
   "metadata": {
    "colab": {
     "base_uri": "https://localhost:8080/",
     "height": 635
    },
    "colab_type": "code",
    "id": "l5od63aF6DSk",
    "outputId": "30d6f3be-f50e-4f98-84ca-82f3fd2ad46e"
   },
   "outputs": [
    {
     "data": {
      "text/plain": [
       "array([<matplotlib.axes._subplots.AxesSubplot object at 0x7f102e767cf8>,\n",
       "       <matplotlib.axes._subplots.AxesSubplot object at 0x7f102b55b630>,\n",
       "       <matplotlib.axes._subplots.AxesSubplot object at 0x7f102b583a58>],\n",
       "      dtype=object)"
      ]
     },
     "execution_count": 34,
     "metadata": {
      "tags": []
     },
     "output_type": "execute_result"
    },
    {
     "data": {
      "image/png": "[encoded data removed]",
      "text/plain": [
       "<Figure size 576x216 with 3 Axes>"
      ]
     },
     "metadata": {
      "tags": []
     },
     "output_type": "display_data"
    }
   ],
   "source": [
    "df1.plot.pie(subplots=True,figsize=(8, 3))"
   ]
  },
  {
   "cell_type": "code",
   "execution_count": 0,
   "metadata": {
    "colab": {
     "base_uri": "https://localhost:8080/",
     "height": 102
    },
    "colab_type": "code",
    "id": "hZu2Dl_Y6N_n",
    "outputId": "88c5d576-2df5-41d4-f04a-2dda3cca3f74"
   },
   "outputs": [
    {
     "name": "stdout",
     "output_type": "stream",
     "text": [
      "groups\n",
      "17-30     9026\n",
      "31-59    34401\n",
      "60+       1784\n",
      "dtype: int64\n"
     ]
    }
   ],
   "source": [
    "a = df.groupby('groups').size()\n",
    "\n",
    "print (a)"
   ]
  },
  {
   "cell_type": "code",
   "execution_count": 0,
   "metadata": {
    "colab": {
     "base_uri": "https://localhost:8080/",
     "height": 611
    },
    "colab_type": "code",
    "id": "e7iPGtgE6Rk3",
    "outputId": "619e42a9-a817-4cda-91b3-c6da8788aeb4"
   },
   "outputs": [
    {
     "data": {
      "text/plain": [
       "<matplotlib.axes._subplots.AxesSubplot at 0x7f102b1bf438>"
      ]
     },
     "execution_count": 36,
     "metadata": {
      "tags": []
     },
     "output_type": "execute_result"
    },
    {
     "data": {
      "image/png": "[encoded data removed]",
      "text/plain": [
       "<Figure size 720x720 with 1 Axes>"
      ]
     },
     "metadata": {
      "tags": []
     },
     "output_type": "display_data"
    }
   ],
   "source": [
    "a.plot.pie(title='Pie chart for age groups to whom the bank contacted for marketing',figsize=(10,10))"
   ]
  },
  {
   "cell_type": "markdown",
   "metadata": {
    "colab_type": "text",
    "id": "go1x7-826ZIF"
   },
   "source": [
    "__From this pie chart , we can say that the bank contacted majority of the people whose age are between 31-59 i.e working population for marketing or asking for loan.__\n",
    "\n",
    "__The least people from age group 60+ were least contacted by the bank.__"
   ]
  },
  {
   "cell_type": "code",
   "execution_count": 0,
   "metadata": {
    "colab": {
     "base_uri": "https://localhost:8080/",
     "height": 350
    },
    "colab_type": "code",
    "id": "6UPLxeUJ6eZk",
    "outputId": "6241edf2-ea22-48fa-f12e-fc19753433db"
   },
   "outputs": [
    {
     "data": {
      "image/png": "[encoded data removed]",
      "text/plain": [
       "<Figure size 720x360 with 1 Axes>"
      ]
     },
     "metadata": {
      "tags": []
     },
     "output_type": "display_data"
    }
   ],
   "source": [
    "fig = plt.figure()\n",
    "fig.set_size_inches(10,5)\n",
    "ax = fig.add_subplot(1,1,1)\n",
    "ax.set_xlabel('Months')\n",
    "ax.set_ylabel('Balance')\n",
    "ax.set_title(\"Information on Balance on month wise basis\")\n",
    "ax.scatter(df['month'],df['balance']) # Added third variable income as size of the bubble\n",
    "plt.show()"
   ]
  },
  {
   "cell_type": "markdown",
   "metadata": {
    "colab_type": "text",
    "id": "pUW7Qayk6hRb"
   },
   "source": [
    "__From this scatter plot we can see that in the month of may and nov the balances of the people in the bank was majorly between negative balance and 40K.__\n",
    "\n",
    "__The highest balance was recorded in the month of Jun i.e 10K+ follwoed by in the month of November.__\n",
    "\n",
    "__The lowest balance was recorded in the month of July.__\n",
    "\n",
    "__There was no negative balance in the month of December and March .__"
   ]
  },
  {
   "cell_type": "code",
   "execution_count": 0,
   "metadata": {
    "colab": {},
    "colab_type": "code",
    "id": "RT2I04Cfv9ej"
   },
   "outputs": [],
   "source": [
    "def cat_to_numeric(x):\n",
    "    if x=='yes':\n",
    "        return 1\n",
    "    if x=='no':\n",
    "        return 0"
   ]
  },
  {
   "cell_type": "code",
   "execution_count": 0,
   "metadata": {
    "colab": {},
    "colab_type": "code",
    "id": "C4-FHpgSwjdV"
   },
   "outputs": [],
   "source": [
    "df['default1'] = df['default'].apply(cat_to_numeric) "
   ]
  },
  {
   "cell_type": "code",
   "execution_count": 0,
   "metadata": {
    "colab": {},
    "colab_type": "code",
    "id": "DUmv7bW1wr4D"
   },
   "outputs": [],
   "source": [
    "df['housing1'] = df['housing'].apply(cat_to_numeric)"
   ]
  },
  {
   "cell_type": "code",
   "execution_count": 0,
   "metadata": {
    "colab": {},
    "colab_type": "code",
    "id": "9GQZD8pBwzcW"
   },
   "outputs": [],
   "source": [
    "df['loan1'] = df['loan'].apply(cat_to_numeric)"
   ]
  },
  {
   "cell_type": "markdown",
   "metadata": {
    "colab_type": "text",
    "id": "65mdYOA14JEp"
   },
   "source": [
    "# Method and Results\n",
    "\n",
    "In this section I will be talking about usage of Keras and how it is implemented.\n",
    "\n",
    "The below code is about selecting best features from the dataset.\n"
   ]
  },
  {
   "cell_type": "code",
   "execution_count": 0,
   "metadata": {
    "colab": {},
    "colab_type": "code",
    "id": "78oOC-Ajw4K_"
   },
   "outputs": [],
   "source": [
    "X = df.filter(['campaign','previous','duration','balance','default1','housing1','loan1'], axis=1)"
   ]
  },
  {
   "cell_type": "code",
   "execution_count": 0,
   "metadata": {
    "colab": {},
    "colab_type": "code",
    "id": "Qd4JInjOw8C5"
   },
   "outputs": [],
   "source": [
    "T = df.filter(['y'], axis=1)"
   ]
  },
  {
   "cell_type": "code",
   "execution_count": 0,
   "metadata": {
    "colab": {},
    "colab_type": "code",
    "id": "dEzmid_pxBsr"
   },
   "outputs": [],
   "source": [
    "T['y'] = [0 if y == 'no' else 1 for y in T['y'].values ]"
   ]
  },
  {
   "cell_type": "markdown",
   "metadata": {
    "colab_type": "text",
    "id": "_oUWvKDF6Bfa"
   },
   "source": [
    "__The below code is about splitting up the features and labels from the dataset by using train_test_split().__"
   ]
  },
  {
   "cell_type": "code",
   "execution_count": 0,
   "metadata": {
    "colab": {},
    "colab_type": "code",
    "id": "VsvoWHo-xFG1"
   },
   "outputs": [],
   "source": [
    "from sklearn.model_selection import train_test_split"
   ]
  },
  {
   "cell_type": "code",
   "execution_count": 0,
   "metadata": {
    "colab": {},
    "colab_type": "code",
    "id": "8-ehRb9wxKjs"
   },
   "outputs": [],
   "source": [
    "X_train, X_test, T_train, T_test = train_test_split(X, T, test_size = 0.20)"
   ]
  },
  {
   "cell_type": "markdown",
   "metadata": {
    "colab_type": "text",
    "id": "7TR7Ij_j6xNj"
   },
   "source": [
    "__Here I am using sequential model for deep network. \n",
    "Here I can create a Sequential model by passing a list of layer or its instances to the object and also add layers via the .add() method.__\n",
    "\n",
    "__Add layers with droupout can be used as it is randomly selecting nodes to be dropped-out with a given probability each weight update cycle.__\n",
    "\n",
    "__As the model needs to know what input shape it should expect , we provide more detail  in first layer.\n",
    "Dense i.e 2D layer which gives the details of their input shape via the argument input_dim.\n",
    "We take activation function as Rectified Linear Unit (relu) which returns a tensor.__\n",
    " \n",
    "__For the last layer we use activation function as 'sigmoid'  - activation function in terms of underlying gate structured in co-relation to Neurons firing in Neural Networks. It is mainly used in logistic function case.__\n",
    "\n"
   ]
  },
  {
   "cell_type": "markdown",
   "metadata": {
    "colab_type": "text",
    "id": "T96-Q2vDefHJ"
   },
   "source": [
    "## *First Network* *Structure*"
   ]
  },
  {
   "cell_type": "markdown",
   "metadata": {
    "colab_type": "text",
    "id": "hD-UkOCBepFk"
   },
   "source": [
    "__The below model has 7  layers with below mentioned neurons. We took 7 layers to check if we take more number of input data can the network sheld good output with less loss and more accuracy, Also we know if we use less then 3 layer the network is nt called as deep network , It will be a normal neural network__"
   ]
  },
  {
   "cell_type": "code",
   "execution_count": 0,
   "metadata": {
    "colab": {},
    "colab_type": "code",
    "id": "ZKU6ehgwxQ7F"
   },
   "outputs": [],
   "source": [
    "model = Sequential()\n",
    "model.add(Dense(2, activation='relu', input_dim=X_train.shape[1]))\n",
    "#model.add(Dropout(0.5))\n",
    "model.add(Dense(20, activation='relu'))\n",
    "model.add(Dense(20, activation='relu'))\n",
    "model.add(Dense(20, activation='relu'))\n",
    "model.add(Dense(20, activation='relu'))\n",
    "#model.add(Dropout(0.5))\n",
    "model.add(Dense(20, activation='relu'))\n",
    "model.add(Dense(1, activation='sigmoid'))"
   ]
  },
  {
   "cell_type": "code",
   "execution_count": 0,
   "metadata": {
    "colab": {
     "base_uri": "https://localhost:8080/",
     "height": 374
    },
    "colab_type": "code",
    "id": "64h_U97gyw_2",
    "outputId": "95c91576-7ff5-4bd1-cb84-055a34da44c2"
   },
   "outputs": [
    {
     "name": "stdout",
     "output_type": "stream",
     "text": [
      "_________________________________________________________________\n",
      "Layer (type)                 Output Shape              Param #   \n",
      "=================================================================\n",
      "dense_8 (Dense)              (None, 2)                 16        \n",
      "_________________________________________________________________\n",
      "dense_9 (Dense)              (None, 20)                60        \n",
      "_________________________________________________________________\n",
      "dense_10 (Dense)             (None, 20)                420       \n",
      "_________________________________________________________________\n",
      "dense_11 (Dense)             (None, 20)                420       \n",
      "_________________________________________________________________\n",
      "dense_12 (Dense)             (None, 20)                420       \n",
      "_________________________________________________________________\n",
      "dense_13 (Dense)             (None, 20)                420       \n",
      "_________________________________________________________________\n",
      "dense_14 (Dense)             (None, 1)                 21        \n",
      "=================================================================\n",
      "Total params: 1,777\n",
      "Trainable params: 1,777\n",
      "Non-trainable params: 0\n",
      "_________________________________________________________________\n"
     ]
    }
   ],
   "source": [
    "model.summary()"
   ]
  },
  {
   "cell_type": "markdown",
   "metadata": {
    "colab_type": "text",
    "id": "w7v8ufMGeRza"
   },
   "source": [
    "The below line of code represnts the configuration of model for training purposes."
   ]
  },
  {
   "cell_type": "code",
   "execution_count": 0,
   "metadata": {
    "colab": {},
    "colab_type": "code",
    "id": "TFkSNxd7y16_"
   },
   "outputs": [],
   "source": [
    "model.compile(optimizer='rmsprop', loss='binary_crossentropy', metrics=['accuracy'])"
   ]
  },
  {
   "cell_type": "markdown",
   "metadata": {
    "colab_type": "text",
    "id": "aQtjik8RfuRN"
   },
   "source": [
    "__The below line of code explains us about training the model for a given number of epochs i.e. iterations on a particular dataset. I used batch_size to specify the number of samples per gradient will update.I also used validation split which works as cross validation and split the data accordingly.__"
   ]
  },
  {
   "cell_type": "code",
   "execution_count": 0,
   "metadata": {
    "colab": {
     "base_uri": "https://localhost:8080/",
     "height": 853
    },
    "colab_type": "code",
    "id": "2-neerJ9y6Dr",
    "outputId": "b59531b9-2019-42c5-a17b-f3ed8513f820"
   },
   "outputs": [
    {
     "name": "stdout",
     "output_type": "stream",
     "text": [
      "WARNING:tensorflow:From /usr/local/lib/python3.6/dist-packages/tensorflow/python/ops/math_ops.py:3066: to_int32 (from tensorflow.python.ops.math_ops) is deprecated and will be removed in a future version.\n",
      "Instructions for updating:\n",
      "Use tf.cast instead.\n"
     ]
    },
    {
     "name": "stderr",
     "output_type": "stream",
     "text": [
      "/usr/local/lib/python3.6/dist-packages/ipykernel_launcher.py:1: UserWarning:\n",
      "\n",
      "The `nb_epoch` argument in `fit` has been renamed `epochs`.\n",
      "\n"
     ]
    },
    {
     "name": "stdout",
     "output_type": "stream",
     "text": [
      "Train on 28934 samples, validate on 7234 samples\n",
      "Epoch 1/20\n",
      "28934/28934 [==============================] - 1s 32us/step - loss: 0.6455 - acc: 0.8456 - val_loss: 0.5245 - val_acc: 0.8778\n",
      "Epoch 2/20\n",
      "28934/28934 [==============================] - 0s 6us/step - loss: 0.5379 - acc: 0.8764 - val_loss: 0.5370 - val_acc: 0.8674\n",
      "Epoch 3/20\n",
      "28934/28934 [==============================] - 0s 6us/step - loss: 0.4926 - acc: 0.8682 - val_loss: 0.4731 - val_acc: 0.8778\n",
      "Epoch 4/20\n",
      "28934/28934 [==============================] - 0s 6us/step - loss: 0.4304 - acc: 0.8688 - val_loss: 0.4559 - val_acc: 0.8626\n",
      "Epoch 5/20\n",
      "28934/28934 [==============================] - 0s 6us/step - loss: 0.3654 - acc: 0.8767 - val_loss: 0.3366 - val_acc: 0.8778\n",
      "Epoch 6/20\n",
      "28934/28934 [==============================] - 0s 6us/step - loss: 0.3414 - acc: 0.8771 - val_loss: 0.3150 - val_acc: 0.8828\n",
      "Epoch 7/20\n",
      "28934/28934 [==============================] - 0s 6us/step - loss: 0.3345 - acc: 0.8793 - val_loss: 0.3250 - val_acc: 0.8778\n",
      "Epoch 8/20\n",
      "28934/28934 [==============================] - 0s 6us/step - loss: 0.3223 - acc: 0.8807 - val_loss: 0.3906 - val_acc: 0.8560\n",
      "Epoch 9/20\n",
      "28934/28934 [==============================] - 0s 6us/step - loss: 0.3220 - acc: 0.8837 - val_loss: 0.3321 - val_acc: 0.8813\n",
      "Epoch 10/20\n",
      "28934/28934 [==============================] - 0s 6us/step - loss: 0.3145 - acc: 0.8845 - val_loss: 0.4129 - val_acc: 0.8457\n",
      "Epoch 11/20\n",
      "28934/28934 [==============================] - 0s 6us/step - loss: 0.3096 - acc: 0.8841 - val_loss: 0.3102 - val_acc: 0.8772\n",
      "Epoch 12/20\n",
      "28934/28934 [==============================] - 0s 6us/step - loss: 0.3065 - acc: 0.8841 - val_loss: 0.3089 - val_acc: 0.8799\n",
      "Epoch 13/20\n",
      "28934/28934 [==============================] - 0s 6us/step - loss: 0.3030 - acc: 0.8870 - val_loss: 0.3098 - val_acc: 0.8813\n",
      "Epoch 14/20\n",
      "28934/28934 [==============================] - 0s 6us/step - loss: 0.3035 - acc: 0.8845 - val_loss: 0.3100 - val_acc: 0.8814\n",
      "Epoch 15/20\n",
      "28934/28934 [==============================] - 0s 7us/step - loss: 0.3032 - acc: 0.8852 - val_loss: 0.3073 - val_acc: 0.8825\n",
      "Epoch 16/20\n",
      "28934/28934 [==============================] - 0s 6us/step - loss: 0.3003 - acc: 0.8862 - val_loss: 0.3242 - val_acc: 0.8774\n",
      "Epoch 17/20\n",
      "28934/28934 [==============================] - 0s 6us/step - loss: 0.3007 - acc: 0.8860 - val_loss: 0.3369 - val_acc: 0.8807\n",
      "Epoch 18/20\n",
      "28934/28934 [==============================] - 0s 6us/step - loss: 0.2972 - acc: 0.8872 - val_loss: 0.3194 - val_acc: 0.8800\n",
      "Epoch 19/20\n",
      "28934/28934 [==============================] - 0s 6us/step - loss: 0.2973 - acc: 0.8865 - val_loss: 0.3083 - val_acc: 0.8864\n",
      "Epoch 20/20\n",
      "28934/28934 [==============================] - 0s 6us/step - loss: 0.2988 - acc: 0.8856 - val_loss: 0.3087 - val_acc: 0.8844\n"
     ]
    }
   ],
   "source": [
    "history = model.fit(X_train,T_train, nb_epoch=20, batch_size=500,validation_split=0.2, validation_data=(None))"
   ]
  },
  {
   "cell_type": "code",
   "execution_count": 0,
   "metadata": {
    "colab": {},
    "colab_type": "code",
    "id": "-nBhpkJDzev4"
   },
   "outputs": [],
   "source": [
    "import matplotlib.pyplot as plt\n",
    "%matplotlib inline  "
   ]
  },
  {
   "cell_type": "code",
   "execution_count": 0,
   "metadata": {
    "colab": {},
    "colab_type": "code",
    "id": "KEO_YXOCzlf4"
   },
   "outputs": [],
   "source": [
    "history_dict = history.history"
   ]
  },
  {
   "cell_type": "markdown",
   "metadata": {
    "colab_type": "text",
    "id": "2dZfygrMgkrs"
   },
   "source": [
    "__The below plot is about the loss values__"
   ]
  },
  {
   "cell_type": "code",
   "execution_count": 0,
   "metadata": {
    "colab": {
     "base_uri": "https://localhost:8080/",
     "height": 283
    },
    "colab_type": "code",
    "id": "gv3O7F4nzlm3",
    "outputId": "382e31ec-7325-4eab-f7af-3f67fcb955db"
   },
   "outputs": [
    {
     "data": {
      "image/png": "[encoded data removed]",
      "text/plain": [
       "<Figure size 432x288 with 1 Axes>"
      ]
     },
     "metadata": {
      "tags": []
     },
     "output_type": "display_data"
    }
   ],
   "source": [
    "loss_values = history_dict['loss']\n",
    "val_loss_values = history_dict['val_loss']\n",
    "epochs = range(1, len(loss_values) + 1)\n",
    "\n",
    "plt.plot(epochs, loss_values, 'bo')\n",
    "plt.plot(epochs, val_loss_values, 'b+')\n",
    "plt.xlabel('Epochs')\n",
    "plt.ylabel('Loss')\n",
    "\n",
    "plt.show()"
   ]
  },
  {
   "cell_type": "code",
   "execution_count": 0,
   "metadata": {
    "colab": {
     "base_uri": "https://localhost:8080/",
     "height": 283
    },
    "colab_type": "code",
    "id": "DGNuze8_zq2C",
    "outputId": "4f8537e7-e17b-4722-c7ac-7a6c322b1257"
   },
   "outputs": [
    {
     "data": {
      "image/png": "[encoded data removed]",
      "text/plain": [
       "<Figure size 432x288 with 1 Axes>"
      ]
     },
     "metadata": {
      "tags": []
     },
     "output_type": "display_data"
    }
   ],
   "source": [
    "plt.clf()\n",
    "\n",
    "acc_values = history_dict['acc']\n",
    "val_acc_values = history_dict['val_acc']\n",
    "\n",
    "plt.plot(epochs, acc_values, 'bo')\n",
    "plt.plot(epochs, val_acc_values, 'b+')\n",
    "plt.xlabel('Epochs')\n",
    "plt.ylabel('Accuracy')\n",
    "\n",
    "plt.show()"
   ]
  },
  {
   "cell_type": "markdown",
   "metadata": {
    "colab_type": "text",
    "id": "3PutkHqWjANx"
   },
   "source": [
    "__The network starts overfitting around 9 epochs. We can train a new network for 9 epochs and then evaluate its performance on the test data.__"
   ]
  },
  {
   "cell_type": "markdown",
   "metadata": {
    "colab_type": "text",
    "id": "a4wByHxZjGyo"
   },
   "source": [
    "__The below code is about testing the model and evaluating.__"
   ]
  },
  {
   "cell_type": "code",
   "execution_count": 0,
   "metadata": {
    "colab": {
     "base_uri": "https://localhost:8080/",
     "height": 799
    },
    "colab_type": "code",
    "id": "Vj1MHMu30nrs",
    "outputId": "4380be95-fbdb-4139-d506-f2789beb125a"
   },
   "outputs": [
    {
     "name": "stderr",
     "output_type": "stream",
     "text": [
      "/usr/local/lib/python3.6/dist-packages/ipykernel_launcher.py:12: UserWarning:\n",
      "\n",
      "The `nb_epoch` argument in `fit` has been renamed `epochs`.\n",
      "\n"
     ]
    },
    {
     "name": "stdout",
     "output_type": "stream",
     "text": [
      "Train on 7234 samples, validate on 1809 samples\n",
      "Epoch 1/20\n",
      "7234/7234 [==============================] - 1s 86us/step - loss: 6.4038 - acc: 0.4260 - val_loss: 1.1687 - val_acc: 0.8756\n",
      "Epoch 2/20\n",
      "7234/7234 [==============================] - 0s 7us/step - loss: 0.9043 - acc: 0.8455 - val_loss: 0.9638 - val_acc: 0.7347\n",
      "Epoch 3/20\n",
      "7234/7234 [==============================] - 0s 6us/step - loss: 1.0135 - acc: 0.8202 - val_loss: 0.8217 - val_acc: 0.8524\n",
      "Epoch 4/20\n",
      "7234/7234 [==============================] - 0s 6us/step - loss: 0.8177 - acc: 0.8283 - val_loss: 1.2249 - val_acc: 0.8811\n",
      "Epoch 5/20\n",
      "7234/7234 [==============================] - 0s 7us/step - loss: 0.9048 - acc: 0.8464 - val_loss: 1.0236 - val_acc: 0.8811\n",
      "Epoch 6/20\n",
      "7234/7234 [==============================] - 0s 6us/step - loss: 0.8740 - acc: 0.8481 - val_loss: 0.9624 - val_acc: 0.8811\n",
      "Epoch 7/20\n",
      "7234/7234 [==============================] - 0s 7us/step - loss: 0.7106 - acc: 0.8698 - val_loss: 0.6278 - val_acc: 0.8811\n",
      "Epoch 8/20\n",
      "7234/7234 [==============================] - 0s 7us/step - loss: 0.8252 - acc: 0.8482 - val_loss: 0.7142 - val_acc: 0.8811\n",
      "Epoch 9/20\n",
      "7234/7234 [==============================] - 0s 7us/step - loss: 0.6905 - acc: 0.8508 - val_loss: 1.1167 - val_acc: 0.8811\n",
      "Epoch 10/20\n",
      "7234/7234 [==============================] - 0s 6us/step - loss: 0.7330 - acc: 0.8793 - val_loss: 0.6178 - val_acc: 0.8496\n",
      "Epoch 11/20\n",
      "7234/7234 [==============================] - 0s 7us/step - loss: 0.7209 - acc: 0.8439 - val_loss: 0.5549 - val_acc: 0.8507\n",
      "Epoch 12/20\n",
      "7234/7234 [==============================] - 0s 6us/step - loss: 0.6545 - acc: 0.8578 - val_loss: 0.6368 - val_acc: 0.8811\n",
      "Epoch 13/20\n",
      "7234/7234 [==============================] - 0s 7us/step - loss: 0.6805 - acc: 0.8481 - val_loss: 0.5807 - val_acc: 0.8811\n",
      "Epoch 14/20\n",
      "7234/7234 [==============================] - 0s 7us/step - loss: 0.5251 - acc: 0.8691 - val_loss: 0.8842 - val_acc: 0.8811\n",
      "Epoch 15/20\n",
      "7234/7234 [==============================] - 0s 7us/step - loss: 0.5727 - acc: 0.8685 - val_loss: 0.9068 - val_acc: 0.8811\n",
      "Epoch 16/20\n",
      "7234/7234 [==============================] - 0s 7us/step - loss: 0.6103 - acc: 0.8623 - val_loss: 0.4740 - val_acc: 0.8839\n",
      "Epoch 17/20\n",
      "7234/7234 [==============================] - 0s 6us/step - loss: 0.5533 - acc: 0.8596 - val_loss: 0.4688 - val_acc: 0.8850\n",
      "Epoch 18/20\n",
      "7234/7234 [==============================] - 0s 7us/step - loss: 0.4986 - acc: 0.8731 - val_loss: 0.5278 - val_acc: 0.8811\n",
      "Epoch 19/20\n",
      "7234/7234 [==============================] - 0s 7us/step - loss: 0.5595 - acc: 0.8652 - val_loss: 0.6070 - val_acc: 0.7662\n",
      "Epoch 20/20\n",
      "7234/7234 [==============================] - 0s 6us/step - loss: 0.5006 - acc: 0.8674 - val_loss: 0.7714 - val_acc: 0.8811\n",
      "9043/9043 [==============================] - 0s 19us/step\n"
     ]
    }
   ],
   "source": [
    "model = Sequential()\n",
    "model.add(Dense(20, activation='relu', input_dim=X.shape[1]))\n",
    "model.add(Dense(20, activation='relu'))\n",
    "model.add(Dense(20, activation='relu'))\n",
    "model.add(Dense(20, activation='relu'))\n",
    "model.add(Dense(20, activation='relu'))\n",
    "model.add(Dense(25, activation='relu'))\n",
    "model.add(Dense(1, activation='sigmoid'))\n",
    "\n",
    "model.compile(optimizer='rmsprop', loss='binary_crossentropy', metrics=['accuracy'])\n",
    "\n",
    "model.fit(X_test, T_test, nb_epoch=20, batch_size=512, validation_split=0.2,validation_data=(None))\n",
    "\n",
    "results = model.evaluate(X_test, T_test)"
   ]
  },
  {
   "cell_type": "code",
   "execution_count": 0,
   "metadata": {
    "colab": {
     "base_uri": "https://localhost:8080/",
     "height": 34
    },
    "colab_type": "code",
    "id": "HL0f5n2_1V0r",
    "outputId": "f9bc779b-3e2c-4eb2-d941-aea937e39513"
   },
   "outputs": [
    {
     "data": {
      "text/plain": [
       "[0.719695624281687, 0.8833351763465639]"
      ]
     },
     "execution_count": 71,
     "metadata": {
      "tags": []
     },
     "output_type": "execute_result"
    }
   ],
   "source": [
    "results"
   ]
  },
  {
   "cell_type": "markdown",
   "metadata": {
    "colab_type": "text",
    "id": "R8z92Oudjsjr"
   },
   "source": [
    "__So this network gives me the accuracy of 88.3%__"
   ]
  },
  {
   "cell_type": "code",
   "execution_count": 0,
   "metadata": {
    "colab": {
     "base_uri": "https://localhost:8080/",
     "height": 136
    },
    "colab_type": "code",
    "id": "hoWyhbJoKoAZ",
    "outputId": "76400c85-bdc0-4b9e-ac3f-8e2c67546791"
   },
   "outputs": [
    {
     "data": {
      "text/plain": [
       "array([[0],\n",
       "       [0],\n",
       "       [0],\n",
       "       ...,\n",
       "       [0],\n",
       "       [0],\n",
       "       [0]], dtype=int32)"
      ]
     },
     "execution_count": 72,
     "metadata": {
      "tags": []
     },
     "output_type": "execute_result"
    }
   ],
   "source": [
    "pred = model.predict_classes(X_test)\n",
    "pred"
   ]
  },
  {
   "cell_type": "code",
   "execution_count": 0,
   "metadata": {
    "colab": {},
    "colab_type": "code",
    "id": "DtSA54NPYZj1"
   },
   "outputs": [],
   "source": [
    "from sklearn.metrics import confusion_matrix, classification_report"
   ]
  },
  {
   "cell_type": "code",
   "execution_count": 0,
   "metadata": {
    "colab": {},
    "colab_type": "code",
    "id": "TjwHbo9EYa1r"
   },
   "outputs": [],
   "source": [
    "def pretty_confusion_matrix(y_true, y_pred, labels=[\"False\", \"True\"]):\n",
    "    cm = confusion_matrix(y_true, y_pred)\n",
    "    pred_labels = ['Predicted '+ l for l in labels]\n",
    "    df = pd.DataFrame(cm, index=labels, columns=pred_labels)\n",
    "    return df"
   ]
  },
  {
   "cell_type": "code",
   "execution_count": 0,
   "metadata": {
    "colab": {
     "base_uri": "https://localhost:8080/",
     "height": 111
    },
    "colab_type": "code",
    "id": "dDVRVhp7aeJ8",
    "outputId": "de62e96c-be8a-4334-c55a-6a8e99f256a1"
   },
   "outputs": [
    {
     "data": {
      "text/html": [
       "<div>\n",
       "<style scoped>\n",
       "    .dataframe tbody tr th:only-of-type {\n",
       "        vertical-align: middle;\n",
       "    }\n",
       "\n",
       "    .dataframe tbody tr th {\n",
       "        vertical-align: top;\n",
       "    }\n",
       "\n",
       "    .dataframe thead th {\n",
       "        text-align: right;\n",
       "    }\n",
       "</style>\n",
       "<table border=\"1\" class=\"dataframe\">\n",
       "  <thead>\n",
       "    <tr style=\"text-align: right;\">\n",
       "      <th></th>\n",
       "      <th>Predicted Yes</th>\n",
       "      <th>Predicted No</th>\n",
       "    </tr>\n",
       "  </thead>\n",
       "  <tbody>\n",
       "    <tr>\n",
       "      <th>Yes</th>\n",
       "      <td>7983</td>\n",
       "      <td>4</td>\n",
       "    </tr>\n",
       "    <tr>\n",
       "      <th>No</th>\n",
       "      <td>1051</td>\n",
       "      <td>5</td>\n",
       "    </tr>\n",
       "  </tbody>\n",
       "</table>\n",
       "</div>"
      ],
      "text/plain": [
       "     Predicted Yes  Predicted No\n",
       "Yes           7983             4\n",
       "No            1051             5"
      ]
     },
     "execution_count": 75,
     "metadata": {
      "tags": []
     },
     "output_type": "execute_result"
    }
   ],
   "source": [
    "pretty_confusion_matrix(T_test, pred, labels=['Yes', 'No'])"
   ]
  },
  {
   "cell_type": "markdown",
   "metadata": {
    "colab_type": "text",
    "id": "c3PXa0eMjrMR"
   },
   "source": [
    "## *Second Network Structure*\n",
    "\n",
    "__The below model has 6  layers with below mentioned neurons. We took 6 layers to check if we take more number of input data can the network sheld good output with less loss and more accuracy plus I wanted to check what changes the most when we reduce the layer. Also we know if we use less then 3 layer the network is nt called as deep network , It will be a normal neural network. The assignment also requries atleats 5 layers.__"
   ]
  },
  {
   "cell_type": "code",
   "execution_count": 0,
   "metadata": {
    "colab": {},
    "colab_type": "code",
    "id": "HykIutFi1kkH"
   },
   "outputs": [],
   "source": [
    "model = Sequential()\n",
    "model.add(Dense(2, activation='relu', input_dim=X_train.shape[1]))\n",
    "#model.add(Dropout(0.5))\n",
    "model.add(Dense(10, activation='relu'))\n",
    "model.add(Dense(20, activation='relu'))\n",
    "model.add(Dense(10, activation='relu'))\n",
    "model.add(Dense(20, activation='relu'))\n",
    "#model.add(Dropout(0.5))\n",
    "model.add(Dense(1, activation='sigmoid'))"
   ]
  },
  {
   "cell_type": "code",
   "execution_count": 0,
   "metadata": {
    "colab": {
     "base_uri": "https://localhost:8080/",
     "height": 340
    },
    "colab_type": "code",
    "id": "an85boFbeEly",
    "outputId": "a9cd2b0c-aa8b-48f9-9d2a-93bdd95a899d"
   },
   "outputs": [
    {
     "name": "stdout",
     "output_type": "stream",
     "text": [
      "_________________________________________________________________\n",
      "Layer (type)                 Output Shape              Param #   \n",
      "=================================================================\n",
      "dense_49 (Dense)             (None, 2)                 16        \n",
      "_________________________________________________________________\n",
      "dense_50 (Dense)             (None, 10)                30        \n",
      "_________________________________________________________________\n",
      "dense_51 (Dense)             (None, 20)                220       \n",
      "_________________________________________________________________\n",
      "dense_52 (Dense)             (None, 10)                210       \n",
      "_________________________________________________________________\n",
      "dense_53 (Dense)             (None, 20)                220       \n",
      "_________________________________________________________________\n",
      "dense_54 (Dense)             (None, 1)                 21        \n",
      "=================================================================\n",
      "Total params: 717\n",
      "Trainable params: 717\n",
      "Non-trainable params: 0\n",
      "_________________________________________________________________\n"
     ]
    }
   ],
   "source": [
    "model.summary()"
   ]
  },
  {
   "cell_type": "code",
   "execution_count": 0,
   "metadata": {
    "colab": {},
    "colab_type": "code",
    "id": "TLa-UckMeZNV"
   },
   "outputs": [],
   "source": [
    "model.compile(optimizer='rmsprop', loss='binary_crossentropy', metrics=['accuracy'])"
   ]
  },
  {
   "cell_type": "code",
   "execution_count": 0,
   "metadata": {
    "colab": {
     "base_uri": "https://localhost:8080/",
     "height": 782
    },
    "colab_type": "code",
    "id": "347fBMY3efTp",
    "outputId": "eb0897cf-dd0c-48df-c6ff-dfd66cb09b3d"
   },
   "outputs": [
    {
     "name": "stderr",
     "output_type": "stream",
     "text": [
      "/usr/local/lib/python3.6/dist-packages/ipykernel_launcher.py:1: UserWarning:\n",
      "\n",
      "The `nb_epoch` argument in `fit` has been renamed `epochs`.\n",
      "\n"
     ]
    },
    {
     "name": "stdout",
     "output_type": "stream",
     "text": [
      "Train on 28934 samples, validate on 7234 samples\n",
      "Epoch 1/20\n",
      "28934/28934 [==============================] - 1s 29us/step - loss: 0.7200 - acc: 0.8310 - val_loss: 0.6084 - val_acc: 0.8778\n",
      "Epoch 2/20\n",
      "28934/28934 [==============================] - 0s 5us/step - loss: 0.5465 - acc: 0.8740 - val_loss: 0.5114 - val_acc: 0.8706\n",
      "Epoch 3/20\n",
      "28934/28934 [==============================] - 0s 5us/step - loss: 0.5062 - acc: 0.8750 - val_loss: 0.5796 - val_acc: 0.8778\n",
      "Epoch 4/20\n",
      "28934/28934 [==============================] - 0s 5us/step - loss: 0.4549 - acc: 0.8769 - val_loss: 0.4036 - val_acc: 0.8778\n",
      "Epoch 5/20\n",
      "28934/28934 [==============================] - 0s 5us/step - loss: 0.4158 - acc: 0.8795 - val_loss: 0.3710 - val_acc: 0.8770\n",
      "Epoch 6/20\n",
      "28934/28934 [==============================] - 0s 4us/step - loss: 0.3915 - acc: 0.8796 - val_loss: 0.4032 - val_acc: 0.8778\n",
      "Epoch 7/20\n",
      "28934/28934 [==============================] - 0s 5us/step - loss: 0.3684 - acc: 0.8822 - val_loss: 0.3516 - val_acc: 0.8779\n",
      "Epoch 8/20\n",
      "28934/28934 [==============================] - 0s 5us/step - loss: 0.3464 - acc: 0.8820 - val_loss: 0.3545 - val_acc: 0.8774\n",
      "Epoch 9/20\n",
      "28934/28934 [==============================] - 0s 5us/step - loss: 0.3389 - acc: 0.8834 - val_loss: 0.3435 - val_acc: 0.8768\n",
      "Epoch 10/20\n",
      "28934/28934 [==============================] - 0s 5us/step - loss: 0.3243 - acc: 0.8835 - val_loss: 0.3349 - val_acc: 0.8777\n",
      "Epoch 11/20\n",
      "28934/28934 [==============================] - 0s 5us/step - loss: 0.3228 - acc: 0.8831 - val_loss: 0.3243 - val_acc: 0.8815\n",
      "Epoch 12/20\n",
      "28934/28934 [==============================] - 0s 4us/step - loss: 0.3165 - acc: 0.8847 - val_loss: 0.3250 - val_acc: 0.8807\n",
      "Epoch 13/20\n",
      "28934/28934 [==============================] - 0s 5us/step - loss: 0.3120 - acc: 0.8844 - val_loss: 0.3067 - val_acc: 0.8853\n",
      "Epoch 14/20\n",
      "28934/28934 [==============================] - 0s 5us/step - loss: 0.3081 - acc: 0.8860 - val_loss: 0.3044 - val_acc: 0.8822\n",
      "Epoch 15/20\n",
      "28934/28934 [==============================] - 0s 5us/step - loss: 0.3011 - acc: 0.8861 - val_loss: 0.4096 - val_acc: 0.8778\n",
      "Epoch 16/20\n",
      "28934/28934 [==============================] - 0s 5us/step - loss: 0.3060 - acc: 0.8859 - val_loss: 0.3066 - val_acc: 0.8844\n",
      "Epoch 17/20\n",
      "28934/28934 [==============================] - 0s 5us/step - loss: 0.2997 - acc: 0.8869 - val_loss: 0.3117 - val_acc: 0.8796\n",
      "Epoch 18/20\n",
      "28934/28934 [==============================] - 0s 5us/step - loss: 0.2986 - acc: 0.8866 - val_loss: 0.3065 - val_acc: 0.8800\n",
      "Epoch 19/20\n",
      "28934/28934 [==============================] - 0s 5us/step - loss: 0.2965 - acc: 0.8874 - val_loss: 0.3067 - val_acc: 0.8828\n",
      "Epoch 20/20\n",
      "28934/28934 [==============================] - 0s 5us/step - loss: 0.2971 - acc: 0.8862 - val_loss: 0.2993 - val_acc: 0.8836\n"
     ]
    }
   ],
   "source": [
    "history = model.fit(X_train,T_train, nb_epoch=20, batch_size=500,validation_split=0.2, validation_data=(None))"
   ]
  },
  {
   "cell_type": "code",
   "execution_count": 0,
   "metadata": {
    "colab": {
     "base_uri": "https://localhost:8080/",
     "height": 283
    },
    "colab_type": "code",
    "id": "WPlWnRsOeyui",
    "outputId": "fb8c8b18-2e1e-4070-bd5a-37703ef59e65"
   },
   "outputs": [
    {
     "data": {
      "image/png": "[encoded data removed]",
      "text/plain": [
       "<Figure size 432x288 with 1 Axes>"
      ]
     },
     "metadata": {
      "tags": []
     },
     "output_type": "display_data"
    }
   ],
   "source": [
    "import matplotlib.pyplot as plt\n",
    "%matplotlib inline  \n",
    "history_dict = history.history\n",
    "loss_values = history_dict['loss']\n",
    "val_loss_values = history_dict['val_loss']\n",
    "epochs = range(1, len(loss_values) + 1)\n",
    "\n",
    "plt.plot(epochs, loss_values, 'bo')\n",
    "plt.plot(epochs, val_loss_values, 'b+')\n",
    "plt.xlabel('Epochs')\n",
    "plt.ylabel('Loss')\n",
    "\n",
    "plt.show()"
   ]
  },
  {
   "cell_type": "code",
   "execution_count": 0,
   "metadata": {
    "colab": {
     "base_uri": "https://localhost:8080/",
     "height": 283
    },
    "colab_type": "code",
    "id": "8PpUB7lbgqOa",
    "outputId": "aa35f68b-f0a6-4b08-ac87-8d0fe21cda5f"
   },
   "outputs": [
    {
     "data": {
      "image/png": "[encoded data removed]",
      "text/plain": [
       "<Figure size 432x288 with 1 Axes>"
      ]
     },
     "metadata": {
      "tags": []
     },
     "output_type": "display_data"
    }
   ],
   "source": [
    "plt.clf()\n",
    "\n",
    "acc_values = history_dict['acc']\n",
    "val_acc_values = history_dict['val_acc']\n",
    "\n",
    "plt.plot(epochs, acc_values, 'bo')\n",
    "plt.plot(epochs, val_acc_values, 'b+')\n",
    "plt.xlabel('Epochs')\n",
    "plt.ylabel('Accuracy')\n",
    "\n",
    "plt.show()"
   ]
  },
  {
   "cell_type": "markdown",
   "metadata": {
    "colab_type": "text",
    "id": "eLznHo1hlGt0"
   },
   "source": [
    "__The network starts overfitting around 11 epochs. We can train a new network for 11 epochs and then evaluate its performance on the test data.__"
   ]
  },
  {
   "cell_type": "code",
   "execution_count": 0,
   "metadata": {
    "colab": {
     "base_uri": "https://localhost:8080/",
     "height": 799
    },
    "colab_type": "code",
    "id": "bCBaywThgzX7",
    "outputId": "0d402ffd-63c4-4255-a1a1-e170cc3ad90b"
   },
   "outputs": [
    {
     "name": "stderr",
     "output_type": "stream",
     "text": [
      "/usr/local/lib/python3.6/dist-packages/ipykernel_launcher.py:11: UserWarning:\n",
      "\n",
      "The `nb_epoch` argument in `fit` has been renamed `epochs`.\n",
      "\n"
     ]
    },
    {
     "name": "stdout",
     "output_type": "stream",
     "text": [
      "Train on 7234 samples, validate on 1809 samples\n",
      "Epoch 1/20\n",
      "7234/7234 [==============================] - 1s 139us/step - loss: 0.8623 - acc: 0.7790 - val_loss: 0.6720 - val_acc: 0.8695\n",
      "Epoch 2/20\n",
      "7234/7234 [==============================] - 0s 5us/step - loss: 0.6301 - acc: 0.8611 - val_loss: 0.6229 - val_acc: 0.8811\n",
      "Epoch 3/20\n",
      "7234/7234 [==============================] - 0s 5us/step - loss: 0.5830 - acc: 0.8790 - val_loss: 0.5981 - val_acc: 0.8811\n",
      "Epoch 4/20\n",
      "7234/7234 [==============================] - 0s 5us/step - loss: 0.5622 - acc: 0.8771 - val_loss: 0.5669 - val_acc: 0.8811\n",
      "Epoch 5/20\n",
      "7234/7234 [==============================] - 0s 5us/step - loss: 0.5312 - acc: 0.8725 - val_loss: 0.4808 - val_acc: 0.8811\n",
      "Epoch 6/20\n",
      "7234/7234 [==============================] - 0s 5us/step - loss: 0.5121 - acc: 0.8730 - val_loss: 0.4724 - val_acc: 0.8811\n",
      "Epoch 7/20\n",
      "7234/7234 [==============================] - 0s 5us/step - loss: 0.5008 - acc: 0.8717 - val_loss: 0.5478 - val_acc: 0.8811\n",
      "Epoch 8/20\n",
      "7234/7234 [==============================] - 0s 6us/step - loss: 0.4760 - acc: 0.8768 - val_loss: 0.5525 - val_acc: 0.7872\n",
      "Epoch 9/20\n",
      "7234/7234 [==============================] - 0s 5us/step - loss: 0.4521 - acc: 0.8683 - val_loss: 0.4620 - val_acc: 0.8811\n",
      "Epoch 10/20\n",
      "7234/7234 [==============================] - 0s 5us/step - loss: 0.4164 - acc: 0.8796 - val_loss: 0.3935 - val_acc: 0.8811\n",
      "Epoch 11/20\n",
      "7234/7234 [==============================] - 0s 5us/step - loss: 0.3943 - acc: 0.8814 - val_loss: 0.3955 - val_acc: 0.8811\n",
      "Epoch 12/20\n",
      "7234/7234 [==============================] - 0s 5us/step - loss: 0.4140 - acc: 0.8774 - val_loss: 0.3690 - val_acc: 0.8823\n",
      "Epoch 13/20\n",
      "7234/7234 [==============================] - 0s 5us/step - loss: 0.3857 - acc: 0.8753 - val_loss: 0.4052 - val_acc: 0.8811\n",
      "Epoch 14/20\n",
      "7234/7234 [==============================] - 0s 5us/step - loss: 0.3674 - acc: 0.8779 - val_loss: 0.3738 - val_acc: 0.8811\n",
      "Epoch 15/20\n",
      "7234/7234 [==============================] - 0s 5us/step - loss: 0.3768 - acc: 0.8746 - val_loss: 0.3681 - val_acc: 0.8811\n",
      "Epoch 16/20\n",
      "7234/7234 [==============================] - 0s 5us/step - loss: 0.3842 - acc: 0.8731 - val_loss: 0.3821 - val_acc: 0.8811\n",
      "Epoch 17/20\n",
      "7234/7234 [==============================] - 0s 5us/step - loss: 0.3668 - acc: 0.8814 - val_loss: 0.3625 - val_acc: 0.8811\n",
      "Epoch 18/20\n",
      "7234/7234 [==============================] - 0s 5us/step - loss: 0.3689 - acc: 0.8775 - val_loss: 0.3533 - val_acc: 0.8806\n",
      "Epoch 19/20\n",
      "7234/7234 [==============================] - 0s 5us/step - loss: 0.3688 - acc: 0.8790 - val_loss: 0.4538 - val_acc: 0.8248\n",
      "Epoch 20/20\n",
      "7234/7234 [==============================] - 0s 5us/step - loss: 0.3854 - acc: 0.8731 - val_loss: 0.4819 - val_acc: 0.8811\n",
      "9043/9043 [==============================] - 0s 23us/step\n"
     ]
    }
   ],
   "source": [
    "model = Sequential()\n",
    "model.add(Dense(2, activation='relu', input_dim=X.shape[1]))\n",
    "model.add(Dense(10, activation='relu'))\n",
    "model.add(Dense(20, activation='relu'))\n",
    "model.add(Dense(10, activation='relu'))\n",
    "model.add(Dense(20, activation='relu'))\n",
    "model.add(Dense(1, activation='sigmoid'))\n",
    "\n",
    "model.compile(optimizer='rmsprop', loss='binary_crossentropy', metrics=['accuracy'])\n",
    "\n",
    "model.fit(X_test, T_test, nb_epoch=20, batch_size=512, validation_split=0.2,validation_data=(None))\n",
    "\n",
    "results = model.evaluate(X_test, T_test)"
   ]
  },
  {
   "cell_type": "code",
   "execution_count": 0,
   "metadata": {
    "colab": {
     "base_uri": "https://localhost:8080/",
     "height": 34
    },
    "colab_type": "code",
    "id": "GqoS5JdHg-3Z",
    "outputId": "23a1e3e9-7865-46a1-c296-258c675dffa5"
   },
   "outputs": [
    {
     "data": {
      "text/plain": [
       "[0.4712759609324181, 0.8832245935753595]"
      ]
     },
     "execution_count": 88,
     "metadata": {
      "tags": []
     },
     "output_type": "execute_result"
    }
   ],
   "source": [
    "results"
   ]
  },
  {
   "cell_type": "markdown",
   "metadata": {
    "colab_type": "text",
    "id": "V7zUAEGulZ3o"
   },
   "source": [
    "__So this network gives me the accuracy of 88.77% more then the previous structure__"
   ]
  },
  {
   "cell_type": "code",
   "execution_count": 0,
   "metadata": {
    "colab": {
     "base_uri": "https://localhost:8080/",
     "height": 136
    },
    "colab_type": "code",
    "id": "5CdYIym-h315",
    "outputId": "36a96a95-aa8e-42cd-ad4a-7029ad28cc23"
   },
   "outputs": [
    {
     "data": {
      "text/plain": [
       "array([[0],\n",
       "       [0],\n",
       "       [0],\n",
       "       ...,\n",
       "       [0],\n",
       "       [0],\n",
       "       [0]], dtype=int32)"
      ]
     },
     "execution_count": 89,
     "metadata": {
      "tags": []
     },
     "output_type": "execute_result"
    }
   ],
   "source": [
    "pred = model.predict_classes(X_test)\n",
    "pred"
   ]
  },
  {
   "cell_type": "code",
   "execution_count": 0,
   "metadata": {
    "colab": {},
    "colab_type": "code",
    "id": "yyx-2AJLjIOq"
   },
   "outputs": [],
   "source": [
    "from sklearn.metrics import confusion_matrix, classification_report"
   ]
  },
  {
   "cell_type": "code",
   "execution_count": 0,
   "metadata": {
    "colab": {
     "base_uri": "https://localhost:8080/",
     "height": 111
    },
    "colab_type": "code",
    "id": "MnS7JK8djN0h",
    "outputId": "85ce1d55-ec2b-4c99-e0ac-48e15b244648"
   },
   "outputs": [
    {
     "data": {
      "text/html": [
       "<div>\n",
       "<style scoped>\n",
       "    .dataframe tbody tr th:only-of-type {\n",
       "        vertical-align: middle;\n",
       "    }\n",
       "\n",
       "    .dataframe tbody tr th {\n",
       "        vertical-align: top;\n",
       "    }\n",
       "\n",
       "    .dataframe thead th {\n",
       "        text-align: right;\n",
       "    }\n",
       "</style>\n",
       "<table border=\"1\" class=\"dataframe\">\n",
       "  <thead>\n",
       "    <tr style=\"text-align: right;\">\n",
       "      <th></th>\n",
       "      <th>Predicted Yes</th>\n",
       "      <th>Predicted No</th>\n",
       "    </tr>\n",
       "  </thead>\n",
       "  <tbody>\n",
       "    <tr>\n",
       "      <th>Yes</th>\n",
       "      <td>7987</td>\n",
       "      <td>0</td>\n",
       "    </tr>\n",
       "    <tr>\n",
       "      <th>No</th>\n",
       "      <td>1056</td>\n",
       "      <td>0</td>\n",
       "    </tr>\n",
       "  </tbody>\n",
       "</table>\n",
       "</div>"
      ],
      "text/plain": [
       "     Predicted Yes  Predicted No\n",
       "Yes           7987             0\n",
       "No            1056             0"
      ]
     },
     "execution_count": 91,
     "metadata": {
      "tags": []
     },
     "output_type": "execute_result"
    }
   ],
   "source": [
    "pretty_confusion_matrix(T_test, pred, labels=['Yes', 'No'])"
   ]
  },
  {
   "cell_type": "markdown",
   "metadata": {
    "colab_type": "text",
    "id": "iriLJ-1AlxiG"
   },
   "source": [
    "## *Third Network Structure*\n",
    "\n"
   ]
  },
  {
   "cell_type": "markdown",
   "metadata": {
    "colab_type": "text",
    "id": "6VE3wjkXl7RP"
   },
   "source": [
    "__The below model has 12  layers with below mentioned neurons. We took 12 layers to check if we take more number of input data can the network sheld good output with less loss and more accuracy plus I wanted to check what changes the most when we increases the layers. Also we know if we use less then 3 layer the network is nt called as deep network , It will be a normal neural network. The assignment also requries atleats 5 layers.__"
   ]
  },
  {
   "cell_type": "code",
   "execution_count": 0,
   "metadata": {
    "colab": {},
    "colab_type": "code",
    "id": "qU6gBcu9jTDp"
   },
   "outputs": [],
   "source": [
    "model = Sequential()\n",
    "model.add(Dense(2, activation='relu', input_dim=X_train.shape[1]))\n",
    "#model.add(Dropout(0.5))\n",
    "model.add(Dense(10, activation='relu'))\n",
    "model.add(Dense(20, activation='relu'))\n",
    "model.add(Dense(10, activation='relu'))\n",
    "model.add(Dense(20, activation='relu'))\n",
    "model.add(Dense(20, activation='relu'))\n",
    "model.add(Dense(20, activation='relu'))\n",
    "model.add(Dense(20, activation='relu'))\n",
    "model.add(Dense(20, activation='relu'))\n",
    "model.add(Dense(20, activation='relu'))\n",
    "model.add(Dense(20, activation='relu'))\n",
    "#model.add(Dropout(0.5))\n",
    "model.add(Dense(1, activation='sigmoid'))"
   ]
  },
  {
   "cell_type": "code",
   "execution_count": 0,
   "metadata": {
    "colab": {
     "base_uri": "https://localhost:8080/",
     "height": 544
    },
    "colab_type": "code",
    "id": "tMBboy0ujcZu",
    "outputId": "20694f87-381d-4393-d46b-20a8989fd590"
   },
   "outputs": [
    {
     "name": "stdout",
     "output_type": "stream",
     "text": [
      "_________________________________________________________________\n",
      "Layer (type)                 Output Shape              Param #   \n",
      "=================================================================\n",
      "dense_73 (Dense)             (None, 2)                 16        \n",
      "_________________________________________________________________\n",
      "dense_74 (Dense)             (None, 10)                30        \n",
      "_________________________________________________________________\n",
      "dense_75 (Dense)             (None, 20)                220       \n",
      "_________________________________________________________________\n",
      "dense_76 (Dense)             (None, 10)                210       \n",
      "_________________________________________________________________\n",
      "dense_77 (Dense)             (None, 20)                220       \n",
      "_________________________________________________________________\n",
      "dense_78 (Dense)             (None, 20)                420       \n",
      "_________________________________________________________________\n",
      "dense_79 (Dense)             (None, 20)                420       \n",
      "_________________________________________________________________\n",
      "dense_80 (Dense)             (None, 20)                420       \n",
      "_________________________________________________________________\n",
      "dense_81 (Dense)             (None, 20)                420       \n",
      "_________________________________________________________________\n",
      "dense_82 (Dense)             (None, 20)                420       \n",
      "_________________________________________________________________\n",
      "dense_83 (Dense)             (None, 20)                420       \n",
      "_________________________________________________________________\n",
      "dense_84 (Dense)             (None, 1)                 21        \n",
      "=================================================================\n",
      "Total params: 3,237\n",
      "Trainable params: 3,237\n",
      "Non-trainable params: 0\n",
      "_________________________________________________________________\n"
     ]
    }
   ],
   "source": [
    "model.summary()"
   ]
  },
  {
   "cell_type": "code",
   "execution_count": 0,
   "metadata": {
    "colab": {},
    "colab_type": "code",
    "id": "Cst_Bcp8kFgD"
   },
   "outputs": [],
   "source": [
    "model.compile(optimizer='rmsprop', loss='binary_crossentropy', metrics=['accuracy'])"
   ]
  },
  {
   "cell_type": "code",
   "execution_count": 0,
   "metadata": {
    "colab": {
     "base_uri": "https://localhost:8080/",
     "height": 782
    },
    "colab_type": "code",
    "id": "1j6GEnhvkKFu",
    "outputId": "01973f16-270f-4d30-ab9e-0a6a8a230a81"
   },
   "outputs": [
    {
     "name": "stderr",
     "output_type": "stream",
     "text": [
      "/usr/local/lib/python3.6/dist-packages/ipykernel_launcher.py:1: UserWarning:\n",
      "\n",
      "The `nb_epoch` argument in `fit` has been renamed `epochs`.\n",
      "\n"
     ]
    },
    {
     "name": "stdout",
     "output_type": "stream",
     "text": [
      "Train on 28934 samples, validate on 7234 samples\n",
      "Epoch 1/20\n",
      "28934/28934 [==============================] - 1s 51us/step - loss: 0.5310 - acc: 0.8801 - val_loss: 0.3843 - val_acc: 0.8778\n",
      "Epoch 2/20\n",
      "28934/28934 [==============================] - 0s 8us/step - loss: 0.3589 - acc: 0.8843 - val_loss: 0.3603 - val_acc: 0.8778\n",
      "Epoch 3/20\n",
      "28934/28934 [==============================] - 0s 8us/step - loss: 0.3512 - acc: 0.8842 - val_loss: 0.3580 - val_acc: 0.8778\n",
      "Epoch 4/20\n",
      "28934/28934 [==============================] - 0s 8us/step - loss: 0.3486 - acc: 0.8844 - val_loss: 0.3565 - val_acc: 0.8779\n",
      "Epoch 5/20\n",
      "28934/28934 [==============================] - 0s 8us/step - loss: 0.3464 - acc: 0.8840 - val_loss: 0.3553 - val_acc: 0.8778\n",
      "Epoch 6/20\n",
      "28934/28934 [==============================] - 0s 8us/step - loss: 0.3449 - acc: 0.8844 - val_loss: 0.3626 - val_acc: 0.8778\n",
      "Epoch 7/20\n",
      "28934/28934 [==============================] - 0s 8us/step - loss: 0.3419 - acc: 0.8845 - val_loss: 0.3562 - val_acc: 0.8801\n",
      "Epoch 8/20\n",
      "28934/28934 [==============================] - 0s 8us/step - loss: 0.3408 - acc: 0.8845 - val_loss: 0.3482 - val_acc: 0.8777\n",
      "Epoch 9/20\n",
      "28934/28934 [==============================] - 0s 8us/step - loss: 0.3413 - acc: 0.8837 - val_loss: 0.3481 - val_acc: 0.8779\n",
      "Epoch 10/20\n",
      "28934/28934 [==============================] - 0s 8us/step - loss: 0.3411 - acc: 0.8839 - val_loss: 0.3441 - val_acc: 0.8842\n",
      "Epoch 11/20\n",
      "28934/28934 [==============================] - 0s 8us/step - loss: 0.3406 - acc: 0.8840 - val_loss: 0.3497 - val_acc: 0.8778\n",
      "Epoch 12/20\n",
      "28934/28934 [==============================] - 0s 8us/step - loss: 0.3390 - acc: 0.8845 - val_loss: 0.3416 - val_acc: 0.8850\n",
      "Epoch 13/20\n",
      "28934/28934 [==============================] - 0s 8us/step - loss: 0.3379 - acc: 0.8849 - val_loss: 0.3446 - val_acc: 0.8778\n",
      "Epoch 14/20\n",
      "28934/28934 [==============================] - 0s 8us/step - loss: 0.3361 - acc: 0.8836 - val_loss: 0.3646 - val_acc: 0.8778\n",
      "Epoch 15/20\n",
      "28934/28934 [==============================] - 0s 8us/step - loss: 0.3343 - acc: 0.8855 - val_loss: 0.3350 - val_acc: 0.8788\n",
      "Epoch 16/20\n",
      "28934/28934 [==============================] - 0s 9us/step - loss: 0.3333 - acc: 0.8845 - val_loss: 0.3295 - val_acc: 0.8840\n",
      "Epoch 17/20\n",
      "28934/28934 [==============================] - 0s 8us/step - loss: 0.3328 - acc: 0.8853 - val_loss: 0.3355 - val_acc: 0.8778\n",
      "Epoch 18/20\n",
      "28934/28934 [==============================] - 0s 8us/step - loss: 0.3315 - acc: 0.8825 - val_loss: 0.3739 - val_acc: 0.8673\n",
      "Epoch 19/20\n",
      "28934/28934 [==============================] - 0s 8us/step - loss: 0.3295 - acc: 0.8848 - val_loss: 0.3654 - val_acc: 0.8778\n",
      "Epoch 20/20\n",
      "28934/28934 [==============================] - 0s 8us/step - loss: 0.3289 - acc: 0.8852 - val_loss: 0.3337 - val_acc: 0.8778\n"
     ]
    }
   ],
   "source": [
    "history = model.fit(X_train,T_train, nb_epoch=20, batch_size=500,validation_split=0.2, validation_data=(None))"
   ]
  },
  {
   "cell_type": "code",
   "execution_count": 0,
   "metadata": {
    "colab": {
     "base_uri": "https://localhost:8080/",
     "height": 283
    },
    "colab_type": "code",
    "id": "TflAT0FekRmQ",
    "outputId": "3668dd9c-d7b5-45da-9115-85ef37716ed8"
   },
   "outputs": [
    {
     "data": {
      "image/png": "[encoded data removed]",
      "text/plain": [
       "<Figure size 432x288 with 1 Axes>"
      ]
     },
     "metadata": {
      "tags": []
     },
     "output_type": "display_data"
    }
   ],
   "source": [
    "import matplotlib.pyplot as plt\n",
    "%matplotlib inline  \n",
    "history_dict = history.history\n",
    "loss_values = history_dict['loss']\n",
    "val_loss_values = history_dict['val_loss']\n",
    "epochs = range(1, len(loss_values) + 1)\n",
    "\n",
    "plt.plot(epochs, loss_values, 'bo')\n",
    "plt.plot(epochs, val_loss_values, 'b+')\n",
    "plt.xlabel('Epochs')\n",
    "plt.ylabel('Loss')\n",
    "\n",
    "plt.show()"
   ]
  },
  {
   "cell_type": "code",
   "execution_count": 0,
   "metadata": {
    "colab": {
     "base_uri": "https://localhost:8080/",
     "height": 283
    },
    "colab_type": "code",
    "id": "o2EU7QTDkXTZ",
    "outputId": "72f5eb3b-815e-4807-fa94-1133761ec24c"
   },
   "outputs": [
    {
     "data": {
      "image/png": "[encoded data removed]",
      "text/plain": [
       "<Figure size 432x288 with 1 Axes>"
      ]
     },
     "metadata": {
      "tags": []
     },
     "output_type": "display_data"
    }
   ],
   "source": [
    "plt.clf()\n",
    "\n",
    "acc_values = history_dict['acc']\n",
    "val_acc_values = history_dict['val_acc']\n",
    "\n",
    "plt.plot(epochs, acc_values, 'bo')\n",
    "plt.plot(epochs, val_acc_values, 'b+')\n",
    "plt.xlabel('Epochs')\n",
    "plt.ylabel('Accuracy')\n",
    "\n",
    "plt.show()"
   ]
  },
  {
   "cell_type": "markdown",
   "metadata": {
    "colab_type": "text",
    "id": "uS5QfdfwqZjY"
   },
   "source": [
    "__The network starts overfitting in the middle of epochs. We can train a new network for random epochs and then evaluate its performance on the test data.__"
   ]
  },
  {
   "cell_type": "code",
   "execution_count": 0,
   "metadata": {
    "colab": {
     "base_uri": "https://localhost:8080/",
     "height": 799
    },
    "colab_type": "code",
    "id": "_UAGEZPAloY2",
    "outputId": "f0120ac6-7f72-4b4a-ae48-492b85eaa71a"
   },
   "outputs": [
    {
     "name": "stderr",
     "output_type": "stream",
     "text": [
      "/usr/local/lib/python3.6/dist-packages/ipykernel_launcher.py:17: UserWarning:\n",
      "\n",
      "The `nb_epoch` argument in `fit` has been renamed `epochs`.\n",
      "\n"
     ]
    },
    {
     "name": "stdout",
     "output_type": "stream",
     "text": [
      "Train on 7234 samples, validate on 1809 samples\n",
      "Epoch 1/20\n",
      "7234/7234 [==============================] - 2s 240us/step - loss: 1.0093 - acc: 0.7752 - val_loss: 0.9480 - val_acc: 0.8811\n",
      "Epoch 2/20\n",
      "7234/7234 [==============================] - 0s 9us/step - loss: 0.7918 - acc: 0.8448 - val_loss: 0.6537 - val_acc: 0.8811\n",
      "Epoch 3/20\n",
      "7234/7234 [==============================] - 0s 8us/step - loss: 0.7112 - acc: 0.8627 - val_loss: 0.7500 - val_acc: 0.8811\n",
      "Epoch 4/20\n",
      "7234/7234 [==============================] - 0s 10us/step - loss: 0.7268 - acc: 0.8526 - val_loss: 0.6000 - val_acc: 0.8811\n",
      "Epoch 5/20\n",
      "7234/7234 [==============================] - 0s 10us/step - loss: 0.6307 - acc: 0.8699 - val_loss: 0.8437 - val_acc: 0.5600\n",
      "Epoch 6/20\n",
      "7234/7234 [==============================] - 0s 8us/step - loss: 0.6295 - acc: 0.8578 - val_loss: 0.7893 - val_acc: 0.8811\n",
      "Epoch 7/20\n",
      "7234/7234 [==============================] - 0s 9us/step - loss: 0.6051 - acc: 0.8672 - val_loss: 0.5593 - val_acc: 0.8811\n",
      "Epoch 8/20\n",
      "7234/7234 [==============================] - 0s 10us/step - loss: 0.5752 - acc: 0.8756 - val_loss: 0.5297 - val_acc: 0.8811\n",
      "Epoch 9/20\n",
      "7234/7234 [==============================] - 0s 9us/step - loss: 0.6331 - acc: 0.8731 - val_loss: 0.8971 - val_acc: 0.8811\n",
      "Epoch 10/20\n",
      "7234/7234 [==============================] - 0s 10us/step - loss: 0.5474 - acc: 0.8707 - val_loss: 1.7691 - val_acc: 0.4511\n",
      "Epoch 11/20\n",
      "7234/7234 [==============================] - 0s 9us/step - loss: 0.5876 - acc: 0.8471 - val_loss: 0.4751 - val_acc: 0.8811\n",
      "Epoch 12/20\n",
      "7234/7234 [==============================] - 0s 10us/step - loss: 0.5047 - acc: 0.8730 - val_loss: 0.4340 - val_acc: 0.8800\n",
      "Epoch 13/20\n",
      "7234/7234 [==============================] - 0s 8us/step - loss: 0.4985 - acc: 0.8777 - val_loss: 0.4198 - val_acc: 0.8811\n",
      "Epoch 14/20\n",
      "7234/7234 [==============================] - 0s 10us/step - loss: 0.4756 - acc: 0.8727 - val_loss: 0.4866 - val_acc: 0.8347\n",
      "Epoch 15/20\n",
      "7234/7234 [==============================] - 0s 10us/step - loss: 0.6419 - acc: 0.8792 - val_loss: 0.8968 - val_acc: 0.8811\n",
      "Epoch 16/20\n",
      "7234/7234 [==============================] - 0s 9us/step - loss: 0.5111 - acc: 0.8739 - val_loss: 0.4066 - val_acc: 0.8811\n",
      "Epoch 17/20\n",
      "7234/7234 [==============================] - 0s 8us/step - loss: 0.5178 - acc: 0.8586 - val_loss: 0.4560 - val_acc: 0.8811\n",
      "Epoch 18/20\n",
      "7234/7234 [==============================] - 0s 9us/step - loss: 0.4124 - acc: 0.8801 - val_loss: 0.3762 - val_acc: 0.8828\n",
      "Epoch 19/20\n",
      "7234/7234 [==============================] - 0s 9us/step - loss: 0.4557 - acc: 0.8803 - val_loss: 0.4802 - val_acc: 0.8286\n",
      "Epoch 20/20\n",
      "7234/7234 [==============================] - 0s 9us/step - loss: 0.4454 - acc: 0.8696 - val_loss: 0.3852 - val_acc: 0.8811\n",
      "9043/9043 [==============================] - 0s 29us/step\n"
     ]
    }
   ],
   "source": [
    "model = Sequential()\n",
    "model.add(Dense(2, activation='relu', input_dim=X.shape[1]))\n",
    "model.add(Dense(10, activation='relu'))\n",
    "model.add(Dense(20, activation='relu'))\n",
    "model.add(Dense(10, activation='relu'))\n",
    "model.add(Dense(20, activation='relu'))\n",
    "model.add(Dense(20, activation='relu'))\n",
    "model.add(Dense(20, activation='relu'))\n",
    "model.add(Dense(20, activation='relu'))\n",
    "model.add(Dense(20, activation='relu'))\n",
    "model.add(Dense(20, activation='relu'))\n",
    "model.add(Dense(20, activation='relu'))\n",
    "model.add(Dense(1, activation='sigmoid'))\n",
    "\n",
    "model.compile(optimizer='rmsprop', loss='binary_crossentropy', metrics=['accuracy'])\n",
    "\n",
    "model.fit(X_test, T_test, nb_epoch=20, batch_size=512, validation_split=0.2,validation_data=(None))\n",
    "\n",
    "results = model.evaluate(X_test, T_test)"
   ]
  },
  {
   "cell_type": "code",
   "execution_count": 0,
   "metadata": {
    "colab": {
     "base_uri": "https://localhost:8080/",
     "height": 34
    },
    "colab_type": "code",
    "id": "iEN8zGvUmOi2",
    "outputId": "1ec7365c-e2d7-4ed3-849a-74eaf5a3d5a2"
   },
   "outputs": [
    {
     "data": {
      "text/plain": [
       "[0.3741212925011376, 0.8832245935753595]"
      ]
     },
     "execution_count": 103,
     "metadata": {
      "tags": []
     },
     "output_type": "execute_result"
    }
   ],
   "source": [
    "results"
   ]
  },
  {
   "cell_type": "markdown",
   "metadata": {
    "colab_type": "text",
    "id": "VG9nbx-arTGQ"
   },
   "source": [
    "__So this network gives me the accuracy of 88.32% less then the previous structure__"
   ]
  },
  {
   "cell_type": "code",
   "execution_count": 0,
   "metadata": {
    "colab": {
     "base_uri": "https://localhost:8080/",
     "height": 136
    },
    "colab_type": "code",
    "id": "1pE0VxyHmUmu",
    "outputId": "08698204-76ce-4c54-8ae8-4085248fdfcd"
   },
   "outputs": [
    {
     "data": {
      "text/plain": [
       "array([[0],\n",
       "       [0],\n",
       "       [0],\n",
       "       ...,\n",
       "       [0],\n",
       "       [0],\n",
       "       [0]], dtype=int32)"
      ]
     },
     "execution_count": 104,
     "metadata": {
      "tags": []
     },
     "output_type": "execute_result"
    }
   ],
   "source": [
    "pred = model.predict_classes(X_test)\n",
    "pred"
   ]
  },
  {
   "cell_type": "code",
   "execution_count": 0,
   "metadata": {
    "colab": {},
    "colab_type": "code",
    "id": "Y9Dn5HQQmacp"
   },
   "outputs": [],
   "source": [
    "from sklearn.metrics import confusion_matrix, classification_report"
   ]
  },
  {
   "cell_type": "code",
   "execution_count": 0,
   "metadata": {
    "colab": {
     "base_uri": "https://localhost:8080/",
     "height": 111
    },
    "colab_type": "code",
    "id": "pdfocE51mg3q",
    "outputId": "e7c51341-50f0-4c2c-9c1e-239d9c1d96ee"
   },
   "outputs": [
    {
     "data": {
      "text/html": [
       "<div>\n",
       "<style scoped>\n",
       "    .dataframe tbody tr th:only-of-type {\n",
       "        vertical-align: middle;\n",
       "    }\n",
       "\n",
       "    .dataframe tbody tr th {\n",
       "        vertical-align: top;\n",
       "    }\n",
       "\n",
       "    .dataframe thead th {\n",
       "        text-align: right;\n",
       "    }\n",
       "</style>\n",
       "<table border=\"1\" class=\"dataframe\">\n",
       "  <thead>\n",
       "    <tr style=\"text-align: right;\">\n",
       "      <th></th>\n",
       "      <th>Predicted Yes</th>\n",
       "      <th>Predicted No</th>\n",
       "    </tr>\n",
       "  </thead>\n",
       "  <tbody>\n",
       "    <tr>\n",
       "      <th>Yes</th>\n",
       "      <td>7987</td>\n",
       "      <td>0</td>\n",
       "    </tr>\n",
       "    <tr>\n",
       "      <th>No</th>\n",
       "      <td>1056</td>\n",
       "      <td>0</td>\n",
       "    </tr>\n",
       "  </tbody>\n",
       "</table>\n",
       "</div>"
      ],
      "text/plain": [
       "     Predicted Yes  Predicted No\n",
       "Yes           7987             0\n",
       "No            1056             0"
      ]
     },
     "execution_count": 106,
     "metadata": {
      "tags": []
     },
     "output_type": "execute_result"
    }
   ],
   "source": [
    "pretty_confusion_matrix(T_test, pred, labels=['Yes', 'No'])"
   ]
  },
  {
   "cell_type": "markdown",
   "metadata": {
    "colab_type": "text",
    "id": "ieh6tgAur4Dw"
   },
   "source": [
    "## Choice of Network Structure\n",
    "\n",
    "__So if we go through the above scenarios, we can see that if we change the number of layer in the network structure , the classification and accuracy changes accordingly. Less and precise number of neurons and layers can yield you good results. Pruning also describes a set of techniques to trim network (by nodes not layers) to improve computational performance. The gist of these techniques is removing nodes from the network during training by identifying those nodes which if removed from the network, would not noticeably affect network performance.__"
   ]
  },
  {
   "cell_type": "markdown",
   "metadata": {
    "colab_type": "text",
    "id": "Y1mR4ijy3WfM"
   },
   "source": [
    "## Conclusion\n",
    "\n",
    "__Deep Learning is very important part of machine learning and artificial intelligence which specially used in software agents and machines are made to ascertain the ideal output in a specific deep network with the aim of maximizing its performance.__\n",
    "\n",
    "From this assignments I learned alot and faced lot of challenges:\n",
    "\n",
    "1. The number of network confused alot to which there was some errors arised while designing the model and the data given as input.\n",
    "\n",
    "2. It was very difficult to set the epochs which made difficult to calculate the accuracy and plot it.\n",
    "\n",
    "3. I learned alot about Deep learning through this assignment and about correct network structure selection by experimenting or pruning.\n",
    "\n",
    "4. Also learned about the tensorflow and keras."
   ]
  }
 ],
 "metadata": {
  "colab": {
   "collapsed_sections": [],
   "name": "Assignment-- Deep Learning.ipynb",
   "provenance": [],
   "version": "0.3.2"
  },
  "kernelspec": {
   "display_name": "Python 3",
   "language": "python",
   "name": "python3"
  },
  "language_info": {
   "codemirror_mode": {
    "name": "ipython",
    "version": 3
   },
   "file_extension": ".py",
   "mimetype": "text/x-python",
   "name": "python",
   "nbconvert_exporter": "python",
   "pygments_lexer": "ipython3",
   "version": "3.6.5"
  }
 },
 "nbformat": 4,
 "nbformat_minor": 1
}
